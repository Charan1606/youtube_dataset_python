{
  "nbformat": 4,
  "nbformat_minor": 0,
  "metadata": {
    "colab": {
      "provenance": []
    },
    "kernelspec": {
      "name": "python3",
      "display_name": "Python 3"
    },
    "language_info": {
      "name": "python"
    }
  },
  "cells": [
    {
      "cell_type": "code",
      "execution_count": null,
      "metadata": {
        "id": "CS4BelH29UyE"
      },
      "outputs": [],
      "source": [
        "import pandas as pd "
      ]
    },
    {
      "cell_type": "code",
      "source": [
        "Data=pd.read_csv('/content/youtube_dislike_dataset.csv')"
      ],
      "metadata": {
        "id": "nfTn-91AbLSv"
      },
      "execution_count": null,
      "outputs": []
    },
    {
      "cell_type": "code",
      "source": [
        "Data.head()#top 5 rows"
      ],
      "metadata": {
        "id": "1EmheoHIbkfQ",
        "colab": {
          "base_uri": "https://localhost:8080/",
          "height": 652
        },
        "outputId": "2ce1bbae-f3a4-4e4b-f03e-f921c8f17ef2"
      },
      "execution_count": null,
      "outputs": [
        {
          "output_type": "execute_result",
          "data": {
            "text/plain": [
              "      video_id                                       title  \\\n",
              "0  --0bCF-iK2E        Jadon Sancho  Magical Skills & Goals   \n",
              "1  --14w5SOEUs          Migos - Avalanche (Official Video)   \n",
              "2  --40TEbZ9Is  Supporting Actress in a Comedy: 73rd Emmys   \n",
              "3  --4tfbSyYDE     JO1'YOUNG (JO1 ver.)' PERFORMANCE VIDEO   \n",
              "4  --DKkzWVh-E                Why Retaining Walls Collapse   \n",
              "\n",
              "                 channel_id          channel_title         published_at  \\\n",
              "0  UC6UL29enLNe4mqwTfAyeNuw             Bundesliga  2021-07-01 10:00:00   \n",
              "1  UCGIelM2Dj3zza3xyV3pL3WQ              MigosVEVO  2021-06-10 16:00:00   \n",
              "2  UClBKH8yZRcM4AsRjDVEdjMg     Television Academy  2021-09-20 01:03:32   \n",
              "3  UCsmXiDP8S40uBeJYxvyulmA                    JO1  2021-03-03 10:00:17   \n",
              "4  UCMOqf8ab-42UUQIdVoKwjlQ  Practical Engineering  2021-12-07 13:00:00   \n",
              "\n",
              "   view_count   likes  dislikes  comment_count  \\\n",
              "0     1048888   19515       226           1319   \n",
              "1    15352638  359277      7479          18729   \n",
              "2      925281   11212       401            831   \n",
              "3     2641597   39131       441           3745   \n",
              "4      715724   32887       367           1067   \n",
              "\n",
              "                                                tags  \\\n",
              "0  football soccer ftbol alemn Bundesliga season ...   \n",
              "1  Migos Avalanche Quality Control Music/Motown R...   \n",
              "2                                                      \n",
              "3  PRODUCE101JAPAN              JO1   TheSTAR STA...   \n",
              "4  retaining wall New Jersey highway Direct Conne...   \n",
              "\n",
              "                                         description  \\\n",
              "0  Enjoy the best skills and goals from Jadon San...   \n",
              "1  Watch the the official video for Migos - \"Aval...   \n",
              "2  Hannah Waddingham wins the Emmy for Supporting...   \n",
              "3  JO1'YOUNG (JO1 ver.)' PERFORMANCE VIDEO\\n\\n---...   \n",
              "4  One of the most important (and innocuous) part...   \n",
              "\n",
              "                                            comments  \n",
              "0  Respect to Dortmund fans,must be sad losing hi...  \n",
              "1  Migos just makes me want to live my live to th...  \n",
              "2  Hannah's energy bursts through any screen. Wel...  \n",
              "3  youngVer><  REN is really PERFECT. It's not ju...  \n",
              "4   Keep up with all my projects here: https://pr...  "
            ],
            "text/html": [
              "\n",
              "  <div id=\"df-311e3fb3-d9a1-42cb-918c-db1b7ab592bc\">\n",
              "    <div class=\"colab-df-container\">\n",
              "      <div>\n",
              "<style scoped>\n",
              "    .dataframe tbody tr th:only-of-type {\n",
              "        vertical-align: middle;\n",
              "    }\n",
              "\n",
              "    .dataframe tbody tr th {\n",
              "        vertical-align: top;\n",
              "    }\n",
              "\n",
              "    .dataframe thead th {\n",
              "        text-align: right;\n",
              "    }\n",
              "</style>\n",
              "<table border=\"1\" class=\"dataframe\">\n",
              "  <thead>\n",
              "    <tr style=\"text-align: right;\">\n",
              "      <th></th>\n",
              "      <th>video_id</th>\n",
              "      <th>title</th>\n",
              "      <th>channel_id</th>\n",
              "      <th>channel_title</th>\n",
              "      <th>published_at</th>\n",
              "      <th>view_count</th>\n",
              "      <th>likes</th>\n",
              "      <th>dislikes</th>\n",
              "      <th>comment_count</th>\n",
              "      <th>tags</th>\n",
              "      <th>description</th>\n",
              "      <th>comments</th>\n",
              "    </tr>\n",
              "  </thead>\n",
              "  <tbody>\n",
              "    <tr>\n",
              "      <th>0</th>\n",
              "      <td>--0bCF-iK2E</td>\n",
              "      <td>Jadon Sancho  Magical Skills &amp; Goals</td>\n",
              "      <td>UC6UL29enLNe4mqwTfAyeNuw</td>\n",
              "      <td>Bundesliga</td>\n",
              "      <td>2021-07-01 10:00:00</td>\n",
              "      <td>1048888</td>\n",
              "      <td>19515</td>\n",
              "      <td>226</td>\n",
              "      <td>1319</td>\n",
              "      <td>football soccer ftbol alemn Bundesliga season ...</td>\n",
              "      <td>Enjoy the best skills and goals from Jadon San...</td>\n",
              "      <td>Respect to Dortmund fans,must be sad losing hi...</td>\n",
              "    </tr>\n",
              "    <tr>\n",
              "      <th>1</th>\n",
              "      <td>--14w5SOEUs</td>\n",
              "      <td>Migos - Avalanche (Official Video)</td>\n",
              "      <td>UCGIelM2Dj3zza3xyV3pL3WQ</td>\n",
              "      <td>MigosVEVO</td>\n",
              "      <td>2021-06-10 16:00:00</td>\n",
              "      <td>15352638</td>\n",
              "      <td>359277</td>\n",
              "      <td>7479</td>\n",
              "      <td>18729</td>\n",
              "      <td>Migos Avalanche Quality Control Music/Motown R...</td>\n",
              "      <td>Watch the the official video for Migos - \"Aval...</td>\n",
              "      <td>Migos just makes me want to live my live to th...</td>\n",
              "    </tr>\n",
              "    <tr>\n",
              "      <th>2</th>\n",
              "      <td>--40TEbZ9Is</td>\n",
              "      <td>Supporting Actress in a Comedy: 73rd Emmys</td>\n",
              "      <td>UClBKH8yZRcM4AsRjDVEdjMg</td>\n",
              "      <td>Television Academy</td>\n",
              "      <td>2021-09-20 01:03:32</td>\n",
              "      <td>925281</td>\n",
              "      <td>11212</td>\n",
              "      <td>401</td>\n",
              "      <td>831</td>\n",
              "      <td></td>\n",
              "      <td>Hannah Waddingham wins the Emmy for Supporting...</td>\n",
              "      <td>Hannah's energy bursts through any screen. Wel...</td>\n",
              "    </tr>\n",
              "    <tr>\n",
              "      <th>3</th>\n",
              "      <td>--4tfbSyYDE</td>\n",
              "      <td>JO1'YOUNG (JO1 ver.)' PERFORMANCE VIDEO</td>\n",
              "      <td>UCsmXiDP8S40uBeJYxvyulmA</td>\n",
              "      <td>JO1</td>\n",
              "      <td>2021-03-03 10:00:17</td>\n",
              "      <td>2641597</td>\n",
              "      <td>39131</td>\n",
              "      <td>441</td>\n",
              "      <td>3745</td>\n",
              "      <td>PRODUCE101JAPAN              JO1   TheSTAR STA...</td>\n",
              "      <td>JO1'YOUNG (JO1 ver.)' PERFORMANCE VIDEO\\n\\n---...</td>\n",
              "      <td>youngVer&gt;&lt;  REN is really PERFECT. It's not ju...</td>\n",
              "    </tr>\n",
              "    <tr>\n",
              "      <th>4</th>\n",
              "      <td>--DKkzWVh-E</td>\n",
              "      <td>Why Retaining Walls Collapse</td>\n",
              "      <td>UCMOqf8ab-42UUQIdVoKwjlQ</td>\n",
              "      <td>Practical Engineering</td>\n",
              "      <td>2021-12-07 13:00:00</td>\n",
              "      <td>715724</td>\n",
              "      <td>32887</td>\n",
              "      <td>367</td>\n",
              "      <td>1067</td>\n",
              "      <td>retaining wall New Jersey highway Direct Conne...</td>\n",
              "      <td>One of the most important (and innocuous) part...</td>\n",
              "      <td>Keep up with all my projects here: https://pr...</td>\n",
              "    </tr>\n",
              "  </tbody>\n",
              "</table>\n",
              "</div>\n",
              "      <button class=\"colab-df-convert\" onclick=\"convertToInteractive('df-311e3fb3-d9a1-42cb-918c-db1b7ab592bc')\"\n",
              "              title=\"Convert this dataframe to an interactive table.\"\n",
              "              style=\"display:none;\">\n",
              "        \n",
              "  <svg xmlns=\"http://www.w3.org/2000/svg\" height=\"24px\"viewBox=\"0 0 24 24\"\n",
              "       width=\"24px\">\n",
              "    <path d=\"M0 0h24v24H0V0z\" fill=\"none\"/>\n",
              "    <path d=\"M18.56 5.44l.94 2.06.94-2.06 2.06-.94-2.06-.94-.94-2.06-.94 2.06-2.06.94zm-11 1L8.5 8.5l.94-2.06 2.06-.94-2.06-.94L8.5 2.5l-.94 2.06-2.06.94zm10 10l.94 2.06.94-2.06 2.06-.94-2.06-.94-.94-2.06-.94 2.06-2.06.94z\"/><path d=\"M17.41 7.96l-1.37-1.37c-.4-.4-.92-.59-1.43-.59-.52 0-1.04.2-1.43.59L10.3 9.45l-7.72 7.72c-.78.78-.78 2.05 0 2.83L4 21.41c.39.39.9.59 1.41.59.51 0 1.02-.2 1.41-.59l7.78-7.78 2.81-2.81c.8-.78.8-2.07 0-2.86zM5.41 20L4 18.59l7.72-7.72 1.47 1.35L5.41 20z\"/>\n",
              "  </svg>\n",
              "      </button>\n",
              "      \n",
              "  <style>\n",
              "    .colab-df-container {\n",
              "      display:flex;\n",
              "      flex-wrap:wrap;\n",
              "      gap: 12px;\n",
              "    }\n",
              "\n",
              "    .colab-df-convert {\n",
              "      background-color: #E8F0FE;\n",
              "      border: none;\n",
              "      border-radius: 50%;\n",
              "      cursor: pointer;\n",
              "      display: none;\n",
              "      fill: #1967D2;\n",
              "      height: 32px;\n",
              "      padding: 0 0 0 0;\n",
              "      width: 32px;\n",
              "    }\n",
              "\n",
              "    .colab-df-convert:hover {\n",
              "      background-color: #E2EBFA;\n",
              "      box-shadow: 0px 1px 2px rgba(60, 64, 67, 0.3), 0px 1px 3px 1px rgba(60, 64, 67, 0.15);\n",
              "      fill: #174EA6;\n",
              "    }\n",
              "\n",
              "    [theme=dark] .colab-df-convert {\n",
              "      background-color: #3B4455;\n",
              "      fill: #D2E3FC;\n",
              "    }\n",
              "\n",
              "    [theme=dark] .colab-df-convert:hover {\n",
              "      background-color: #434B5C;\n",
              "      box-shadow: 0px 1px 3px 1px rgba(0, 0, 0, 0.15);\n",
              "      filter: drop-shadow(0px 1px 2px rgba(0, 0, 0, 0.3));\n",
              "      fill: #FFFFFF;\n",
              "    }\n",
              "  </style>\n",
              "\n",
              "      <script>\n",
              "        const buttonEl =\n",
              "          document.querySelector('#df-311e3fb3-d9a1-42cb-918c-db1b7ab592bc button.colab-df-convert');\n",
              "        buttonEl.style.display =\n",
              "          google.colab.kernel.accessAllowed ? 'block' : 'none';\n",
              "\n",
              "        async function convertToInteractive(key) {\n",
              "          const element = document.querySelector('#df-311e3fb3-d9a1-42cb-918c-db1b7ab592bc');\n",
              "          const dataTable =\n",
              "            await google.colab.kernel.invokeFunction('convertToInteractive',\n",
              "                                                     [key], {});\n",
              "          if (!dataTable) return;\n",
              "\n",
              "          const docLinkHtml = 'Like what you see? Visit the ' +\n",
              "            '<a target=\"_blank\" href=https://colab.research.google.com/notebooks/data_table.ipynb>data table notebook</a>'\n",
              "            + ' to learn more about interactive tables.';\n",
              "          element.innerHTML = '';\n",
              "          dataTable['output_type'] = 'display_data';\n",
              "          await google.colab.output.renderOutput(dataTable, element);\n",
              "          const docLink = document.createElement('div');\n",
              "          docLink.innerHTML = docLinkHtml;\n",
              "          element.appendChild(docLink);\n",
              "        }\n",
              "      </script>\n",
              "    </div>\n",
              "  </div>\n",
              "  "
            ]
          },
          "metadata": {},
          "execution_count": 24
        }
      ]
    },
    {
      "cell_type": "code",
      "source": [
        "Data.tail()#bottom "
      ],
      "metadata": {
        "id": "RpWRGen-clws",
        "colab": {
          "base_uri": "https://localhost:8080/",
          "height": 652
        },
        "outputId": "16022d12-9268-43bb-dec4-84208d9c1d99"
      },
      "execution_count": null,
      "outputs": [
        {
          "output_type": "execute_result",
          "data": {
            "text/plain": [
              "          video_id                                              title  \\\n",
              "37417  zzd4ydafGR0  Lil Tjay - Calling My Phone (feat. 6LACK) [Off...   \n",
              "37418  zziBybeSAtw  PELICANS at LAKERS | FULL GAME HIGHLIGHTS | Ja...   \n",
              "37419  zzk09ESX7e0                 [MV]  (MAMAMOO) - Where Are We Now   \n",
              "37420  zzmQEb0Em5I              FELLIPE ESCUDERO- Master Podcast  #12   \n",
              "37421  zzxPZwaA-8w  Gareth Bale brace secures dramatic comeback on...   \n",
              "\n",
              "                     channel_id      channel_title         published_at  \\\n",
              "37417  UCEB4a5o_6KfjxHwNMnmj54Q           Lil Tjay  2021-02-12 05:03:49   \n",
              "37418  UCWJ2lWNubArHWmf3FIHbfcQ                NBA  2021-01-16 05:39:05   \n",
              "37419  UCuhAUMLzJxlP1W7mEk0_6lA            MAMAMOO  2021-06-02 09:00:10   \n",
              "37420  UC8NjnNWMsRqq11NYvHAQb1g     Master Podcast  2020-10-20 20:59:30   \n",
              "37421  UCEg25rdRZXg32iwai6N6l0w  Tottenham Hotspur  2021-05-23 21:00:31   \n",
              "\n",
              "       view_count    likes  dislikes  comment_count  \\\n",
              "37417   120408275  2180780     35871          81360   \n",
              "37418     2841917    20759      1049           2624   \n",
              "37419    13346678   720854      4426          90616   \n",
              "37420      252057    19198      1234           1471   \n",
              "37421     2252090    34063       868           2004   \n",
              "\n",
              "                                                    tags  \\\n",
              "37417  Lil Tjay Steady Calling My Phone Calling My Ph...   \n",
              "37418  NBA G League Basketball game-0022000187 Lakers...   \n",
              "37419  MAMAMOO  WAW  WAW MAMAMOO WAW Where Are We Now...   \n",
              "37420  master masterpodcast lord lord vinheteiro z z ...   \n",
              "37421  Spurs Tottenham Hotspur   Tottenham Leicester ...   \n",
              "\n",
              "                                             description  \\\n",
              "37417  Official video for \"Calling My Phone\" by Lil T...   \n",
              "37418  PELICANS at LAKERS | FULL GAME HIGHLIGHTS | Ja...   \n",
              "37419  [MV]  (MAMAMOO) - Where Are We Now\\n\\nInstagra...   \n",
              "37420  DOCTOR HAIR\\nhttps://www.thedoctorhair.com/?fb...   \n",
              "37421  Two minute highlights from Tottenham Hotspur's...   \n",
              "\n",
              "                                                comments  \n",
              "37417  'DESTINED 2 WIN' OUT NOW !! https://liltjay.ln...  \n",
              "37418  Montrezl Harrell is going crazy with the rebou...  \n",
              "37419  I honestly do not know why this song hit so ha...  \n",
              "37420  Foi um prazer passar esta tarde com vocs debat...  \n",
              "37421  Thank you Kane for everything you have given t...  "
            ],
            "text/html": [
              "\n",
              "  <div id=\"df-8f947330-34ee-41c4-83ba-b0b4db52eee9\">\n",
              "    <div class=\"colab-df-container\">\n",
              "      <div>\n",
              "<style scoped>\n",
              "    .dataframe tbody tr th:only-of-type {\n",
              "        vertical-align: middle;\n",
              "    }\n",
              "\n",
              "    .dataframe tbody tr th {\n",
              "        vertical-align: top;\n",
              "    }\n",
              "\n",
              "    .dataframe thead th {\n",
              "        text-align: right;\n",
              "    }\n",
              "</style>\n",
              "<table border=\"1\" class=\"dataframe\">\n",
              "  <thead>\n",
              "    <tr style=\"text-align: right;\">\n",
              "      <th></th>\n",
              "      <th>video_id</th>\n",
              "      <th>title</th>\n",
              "      <th>channel_id</th>\n",
              "      <th>channel_title</th>\n",
              "      <th>published_at</th>\n",
              "      <th>view_count</th>\n",
              "      <th>likes</th>\n",
              "      <th>dislikes</th>\n",
              "      <th>comment_count</th>\n",
              "      <th>tags</th>\n",
              "      <th>description</th>\n",
              "      <th>comments</th>\n",
              "    </tr>\n",
              "  </thead>\n",
              "  <tbody>\n",
              "    <tr>\n",
              "      <th>37417</th>\n",
              "      <td>zzd4ydafGR0</td>\n",
              "      <td>Lil Tjay - Calling My Phone (feat. 6LACK) [Off...</td>\n",
              "      <td>UCEB4a5o_6KfjxHwNMnmj54Q</td>\n",
              "      <td>Lil Tjay</td>\n",
              "      <td>2021-02-12 05:03:49</td>\n",
              "      <td>120408275</td>\n",
              "      <td>2180780</td>\n",
              "      <td>35871</td>\n",
              "      <td>81360</td>\n",
              "      <td>Lil Tjay Steady Calling My Phone Calling My Ph...</td>\n",
              "      <td>Official video for \"Calling My Phone\" by Lil T...</td>\n",
              "      <td>'DESTINED 2 WIN' OUT NOW !! https://liltjay.ln...</td>\n",
              "    </tr>\n",
              "    <tr>\n",
              "      <th>37418</th>\n",
              "      <td>zziBybeSAtw</td>\n",
              "      <td>PELICANS at LAKERS | FULL GAME HIGHLIGHTS | Ja...</td>\n",
              "      <td>UCWJ2lWNubArHWmf3FIHbfcQ</td>\n",
              "      <td>NBA</td>\n",
              "      <td>2021-01-16 05:39:05</td>\n",
              "      <td>2841917</td>\n",
              "      <td>20759</td>\n",
              "      <td>1049</td>\n",
              "      <td>2624</td>\n",
              "      <td>NBA G League Basketball game-0022000187 Lakers...</td>\n",
              "      <td>PELICANS at LAKERS | FULL GAME HIGHLIGHTS | Ja...</td>\n",
              "      <td>Montrezl Harrell is going crazy with the rebou...</td>\n",
              "    </tr>\n",
              "    <tr>\n",
              "      <th>37419</th>\n",
              "      <td>zzk09ESX7e0</td>\n",
              "      <td>[MV]  (MAMAMOO) - Where Are We Now</td>\n",
              "      <td>UCuhAUMLzJxlP1W7mEk0_6lA</td>\n",
              "      <td>MAMAMOO</td>\n",
              "      <td>2021-06-02 09:00:10</td>\n",
              "      <td>13346678</td>\n",
              "      <td>720854</td>\n",
              "      <td>4426</td>\n",
              "      <td>90616</td>\n",
              "      <td>MAMAMOO  WAW  WAW MAMAMOO WAW Where Are We Now...</td>\n",
              "      <td>[MV]  (MAMAMOO) - Where Are We Now\\n\\nInstagra...</td>\n",
              "      <td>I honestly do not know why this song hit so ha...</td>\n",
              "    </tr>\n",
              "    <tr>\n",
              "      <th>37420</th>\n",
              "      <td>zzmQEb0Em5I</td>\n",
              "      <td>FELLIPE ESCUDERO- Master Podcast  #12</td>\n",
              "      <td>UC8NjnNWMsRqq11NYvHAQb1g</td>\n",
              "      <td>Master Podcast</td>\n",
              "      <td>2020-10-20 20:59:30</td>\n",
              "      <td>252057</td>\n",
              "      <td>19198</td>\n",
              "      <td>1234</td>\n",
              "      <td>1471</td>\n",
              "      <td>master masterpodcast lord lord vinheteiro z z ...</td>\n",
              "      <td>DOCTOR HAIR\\nhttps://www.thedoctorhair.com/?fb...</td>\n",
              "      <td>Foi um prazer passar esta tarde com vocs debat...</td>\n",
              "    </tr>\n",
              "    <tr>\n",
              "      <th>37421</th>\n",
              "      <td>zzxPZwaA-8w</td>\n",
              "      <td>Gareth Bale brace secures dramatic comeback on...</td>\n",
              "      <td>UCEg25rdRZXg32iwai6N6l0w</td>\n",
              "      <td>Tottenham Hotspur</td>\n",
              "      <td>2021-05-23 21:00:31</td>\n",
              "      <td>2252090</td>\n",
              "      <td>34063</td>\n",
              "      <td>868</td>\n",
              "      <td>2004</td>\n",
              "      <td>Spurs Tottenham Hotspur   Tottenham Leicester ...</td>\n",
              "      <td>Two minute highlights from Tottenham Hotspur's...</td>\n",
              "      <td>Thank you Kane for everything you have given t...</td>\n",
              "    </tr>\n",
              "  </tbody>\n",
              "</table>\n",
              "</div>\n",
              "      <button class=\"colab-df-convert\" onclick=\"convertToInteractive('df-8f947330-34ee-41c4-83ba-b0b4db52eee9')\"\n",
              "              title=\"Convert this dataframe to an interactive table.\"\n",
              "              style=\"display:none;\">\n",
              "        \n",
              "  <svg xmlns=\"http://www.w3.org/2000/svg\" height=\"24px\"viewBox=\"0 0 24 24\"\n",
              "       width=\"24px\">\n",
              "    <path d=\"M0 0h24v24H0V0z\" fill=\"none\"/>\n",
              "    <path d=\"M18.56 5.44l.94 2.06.94-2.06 2.06-.94-2.06-.94-.94-2.06-.94 2.06-2.06.94zm-11 1L8.5 8.5l.94-2.06 2.06-.94-2.06-.94L8.5 2.5l-.94 2.06-2.06.94zm10 10l.94 2.06.94-2.06 2.06-.94-2.06-.94-.94-2.06-.94 2.06-2.06.94z\"/><path d=\"M17.41 7.96l-1.37-1.37c-.4-.4-.92-.59-1.43-.59-.52 0-1.04.2-1.43.59L10.3 9.45l-7.72 7.72c-.78.78-.78 2.05 0 2.83L4 21.41c.39.39.9.59 1.41.59.51 0 1.02-.2 1.41-.59l7.78-7.78 2.81-2.81c.8-.78.8-2.07 0-2.86zM5.41 20L4 18.59l7.72-7.72 1.47 1.35L5.41 20z\"/>\n",
              "  </svg>\n",
              "      </button>\n",
              "      \n",
              "  <style>\n",
              "    .colab-df-container {\n",
              "      display:flex;\n",
              "      flex-wrap:wrap;\n",
              "      gap: 12px;\n",
              "    }\n",
              "\n",
              "    .colab-df-convert {\n",
              "      background-color: #E8F0FE;\n",
              "      border: none;\n",
              "      border-radius: 50%;\n",
              "      cursor: pointer;\n",
              "      display: none;\n",
              "      fill: #1967D2;\n",
              "      height: 32px;\n",
              "      padding: 0 0 0 0;\n",
              "      width: 32px;\n",
              "    }\n",
              "\n",
              "    .colab-df-convert:hover {\n",
              "      background-color: #E2EBFA;\n",
              "      box-shadow: 0px 1px 2px rgba(60, 64, 67, 0.3), 0px 1px 3px 1px rgba(60, 64, 67, 0.15);\n",
              "      fill: #174EA6;\n",
              "    }\n",
              "\n",
              "    [theme=dark] .colab-df-convert {\n",
              "      background-color: #3B4455;\n",
              "      fill: #D2E3FC;\n",
              "    }\n",
              "\n",
              "    [theme=dark] .colab-df-convert:hover {\n",
              "      background-color: #434B5C;\n",
              "      box-shadow: 0px 1px 3px 1px rgba(0, 0, 0, 0.15);\n",
              "      filter: drop-shadow(0px 1px 2px rgba(0, 0, 0, 0.3));\n",
              "      fill: #FFFFFF;\n",
              "    }\n",
              "  </style>\n",
              "\n",
              "      <script>\n",
              "        const buttonEl =\n",
              "          document.querySelector('#df-8f947330-34ee-41c4-83ba-b0b4db52eee9 button.colab-df-convert');\n",
              "        buttonEl.style.display =\n",
              "          google.colab.kernel.accessAllowed ? 'block' : 'none';\n",
              "\n",
              "        async function convertToInteractive(key) {\n",
              "          const element = document.querySelector('#df-8f947330-34ee-41c4-83ba-b0b4db52eee9');\n",
              "          const dataTable =\n",
              "            await google.colab.kernel.invokeFunction('convertToInteractive',\n",
              "                                                     [key], {});\n",
              "          if (!dataTable) return;\n",
              "\n",
              "          const docLinkHtml = 'Like what you see? Visit the ' +\n",
              "            '<a target=\"_blank\" href=https://colab.research.google.com/notebooks/data_table.ipynb>data table notebook</a>'\n",
              "            + ' to learn more about interactive tables.';\n",
              "          element.innerHTML = '';\n",
              "          dataTable['output_type'] = 'display_data';\n",
              "          await google.colab.output.renderOutput(dataTable, element);\n",
              "          const docLink = document.createElement('div');\n",
              "          docLink.innerHTML = docLinkHtml;\n",
              "          element.appendChild(docLink);\n",
              "        }\n",
              "      </script>\n",
              "    </div>\n",
              "  </div>\n",
              "  "
            ]
          },
          "metadata": {},
          "execution_count": 25
        }
      ]
    },
    {
      "cell_type": "code",
      "source": [
        "Data.info"
      ],
      "metadata": {
        "id": "FfgkFloAcsnP",
        "colab": {
          "base_uri": "https://localhost:8080/"
        },
        "outputId": "d33600bb-6ce1-4ad5-90c9-fa19fa888482"
      },
      "execution_count": null,
      "outputs": [
        {
          "output_type": "execute_result",
          "data": {
            "text/plain": [
              "<bound method DataFrame.info of           video_id                                              title  \\\n",
              "0      --0bCF-iK2E               Jadon Sancho  Magical Skills & Goals   \n",
              "1      --14w5SOEUs                 Migos - Avalanche (Official Video)   \n",
              "2      --40TEbZ9Is         Supporting Actress in a Comedy: 73rd Emmys   \n",
              "3      --4tfbSyYDE            JO1'YOUNG (JO1 ver.)' PERFORMANCE VIDEO   \n",
              "4      --DKkzWVh-E                       Why Retaining Walls Collapse   \n",
              "...            ...                                                ...   \n",
              "37417  zzd4ydafGR0  Lil Tjay - Calling My Phone (feat. 6LACK) [Off...   \n",
              "37418  zziBybeSAtw  PELICANS at LAKERS | FULL GAME HIGHLIGHTS | Ja...   \n",
              "37419  zzk09ESX7e0                 [MV]  (MAMAMOO) - Where Are We Now   \n",
              "37420  zzmQEb0Em5I              FELLIPE ESCUDERO- Master Podcast  #12   \n",
              "37421  zzxPZwaA-8w  Gareth Bale brace secures dramatic comeback on...   \n",
              "\n",
              "                     channel_id          channel_title         published_at  \\\n",
              "0      UC6UL29enLNe4mqwTfAyeNuw             Bundesliga  2021-07-01 10:00:00   \n",
              "1      UCGIelM2Dj3zza3xyV3pL3WQ              MigosVEVO  2021-06-10 16:00:00   \n",
              "2      UClBKH8yZRcM4AsRjDVEdjMg     Television Academy  2021-09-20 01:03:32   \n",
              "3      UCsmXiDP8S40uBeJYxvyulmA                    JO1  2021-03-03 10:00:17   \n",
              "4      UCMOqf8ab-42UUQIdVoKwjlQ  Practical Engineering  2021-12-07 13:00:00   \n",
              "...                         ...                    ...                  ...   \n",
              "37417  UCEB4a5o_6KfjxHwNMnmj54Q               Lil Tjay  2021-02-12 05:03:49   \n",
              "37418  UCWJ2lWNubArHWmf3FIHbfcQ                    NBA  2021-01-16 05:39:05   \n",
              "37419  UCuhAUMLzJxlP1W7mEk0_6lA                MAMAMOO  2021-06-02 09:00:10   \n",
              "37420  UC8NjnNWMsRqq11NYvHAQb1g         Master Podcast  2020-10-20 20:59:30   \n",
              "37421  UCEg25rdRZXg32iwai6N6l0w      Tottenham Hotspur  2021-05-23 21:00:31   \n",
              "\n",
              "       view_count    likes  dislikes  comment_count  \\\n",
              "0         1048888    19515       226           1319   \n",
              "1        15352638   359277      7479          18729   \n",
              "2          925281    11212       401            831   \n",
              "3         2641597    39131       441           3745   \n",
              "4          715724    32887       367           1067   \n",
              "...           ...      ...       ...            ...   \n",
              "37417   120408275  2180780     35871          81360   \n",
              "37418     2841917    20759      1049           2624   \n",
              "37419    13346678   720854      4426          90616   \n",
              "37420      252057    19198      1234           1471   \n",
              "37421     2252090    34063       868           2004   \n",
              "\n",
              "                                                    tags  \\\n",
              "0      football soccer ftbol alemn Bundesliga season ...   \n",
              "1      Migos Avalanche Quality Control Music/Motown R...   \n",
              "2                                                          \n",
              "3      PRODUCE101JAPAN              JO1   TheSTAR STA...   \n",
              "4      retaining wall New Jersey highway Direct Conne...   \n",
              "...                                                  ...   \n",
              "37417  Lil Tjay Steady Calling My Phone Calling My Ph...   \n",
              "37418  NBA G League Basketball game-0022000187 Lakers...   \n",
              "37419  MAMAMOO  WAW  WAW MAMAMOO WAW Where Are We Now...   \n",
              "37420  master masterpodcast lord lord vinheteiro z z ...   \n",
              "37421  Spurs Tottenham Hotspur   Tottenham Leicester ...   \n",
              "\n",
              "                                             description  \\\n",
              "0      Enjoy the best skills and goals from Jadon San...   \n",
              "1      Watch the the official video for Migos - \"Aval...   \n",
              "2      Hannah Waddingham wins the Emmy for Supporting...   \n",
              "3      JO1'YOUNG (JO1 ver.)' PERFORMANCE VIDEO\\n\\n---...   \n",
              "4      One of the most important (and innocuous) part...   \n",
              "...                                                  ...   \n",
              "37417  Official video for \"Calling My Phone\" by Lil T...   \n",
              "37418  PELICANS at LAKERS | FULL GAME HIGHLIGHTS | Ja...   \n",
              "37419  [MV]  (MAMAMOO) - Where Are We Now\\n\\nInstagra...   \n",
              "37420  DOCTOR HAIR\\nhttps://www.thedoctorhair.com/?fb...   \n",
              "37421  Two minute highlights from Tottenham Hotspur's...   \n",
              "\n",
              "                                                comments  \n",
              "0      Respect to Dortmund fans,must be sad losing hi...  \n",
              "1      Migos just makes me want to live my live to th...  \n",
              "2      Hannah's energy bursts through any screen. Wel...  \n",
              "3      youngVer><  REN is really PERFECT. It's not ju...  \n",
              "4       Keep up with all my projects here: https://pr...  \n",
              "...                                                  ...  \n",
              "37417  'DESTINED 2 WIN' OUT NOW !! https://liltjay.ln...  \n",
              "37418  Montrezl Harrell is going crazy with the rebou...  \n",
              "37419  I honestly do not know why this song hit so ha...  \n",
              "37420  Foi um prazer passar esta tarde com vocs debat...  \n",
              "37421  Thank you Kane for everything you have given t...  \n",
              "\n",
              "[37422 rows x 12 columns]>"
            ]
          },
          "metadata": {},
          "execution_count": 26
        }
      ]
    },
    {
      "cell_type": "code",
      "source": [
        "Data.dtypes"
      ],
      "metadata": {
        "id": "uN8OCcOZcwsk",
        "colab": {
          "base_uri": "https://localhost:8080/"
        },
        "outputId": "26940dba-e11c-4b27-df61-d57260994143"
      },
      "execution_count": null,
      "outputs": [
        {
          "output_type": "execute_result",
          "data": {
            "text/plain": [
              "video_id         object\n",
              "title            object\n",
              "channel_id       object\n",
              "channel_title    object\n",
              "published_at     object\n",
              "view_count        int64\n",
              "likes             int64\n",
              "dislikes          int64\n",
              "comment_count     int64\n",
              "tags             object\n",
              "description      object\n",
              "comments         object\n",
              "dtype: object"
            ]
          },
          "metadata": {},
          "execution_count": 27
        }
      ]
    },
    {
      "cell_type": "code",
      "source": [
        "Data.shape"
      ],
      "metadata": {
        "id": "7UhCAIHZczCo",
        "colab": {
          "base_uri": "https://localhost:8080/"
        },
        "outputId": "0d37e437-0103-407c-b298-ae55d6171323"
      },
      "execution_count": null,
      "outputs": [
        {
          "output_type": "execute_result",
          "data": {
            "text/plain": [
              "(37422, 12)"
            ]
          },
          "metadata": {},
          "execution_count": 28
        }
      ]
    },
    {
      "cell_type": "code",
      "source": [
        "Data.isnull().sum()"
      ],
      "metadata": {
        "id": "AAN3Tbexc0t7",
        "colab": {
          "base_uri": "https://localhost:8080/"
        },
        "outputId": "4e8e5ffc-ff83-4e43-b043-8c1ca2397f35"
      },
      "execution_count": null,
      "outputs": [
        {
          "output_type": "execute_result",
          "data": {
            "text/plain": [
              "video_id           0\n",
              "title              0\n",
              "channel_id         0\n",
              "channel_title      0\n",
              "published_at       0\n",
              "view_count         0\n",
              "likes              0\n",
              "dislikes           0\n",
              "comment_count      0\n",
              "tags               0\n",
              "description        0\n",
              "comments         158\n",
              "dtype: int64"
            ]
          },
          "metadata": {},
          "execution_count": 29
        }
      ]
    },
    {
      "cell_type": "code",
      "source": [
        "Data.dropna()"
      ],
      "metadata": {
        "id": "HX1HT74sjcr8",
        "colab": {
          "base_uri": "https://localhost:8080/",
          "height": 1000
        },
        "outputId": "4d81355d-799a-451e-f66a-2552bbcad611"
      },
      "execution_count": null,
      "outputs": [
        {
          "output_type": "execute_result",
          "data": {
            "text/plain": [
              "          video_id                                              title  \\\n",
              "0      --0bCF-iK2E               Jadon Sancho  Magical Skills & Goals   \n",
              "1      --14w5SOEUs                 Migos - Avalanche (Official Video)   \n",
              "2      --40TEbZ9Is         Supporting Actress in a Comedy: 73rd Emmys   \n",
              "3      --4tfbSyYDE            JO1'YOUNG (JO1 ver.)' PERFORMANCE VIDEO   \n",
              "4      --DKkzWVh-E                       Why Retaining Walls Collapse   \n",
              "...            ...                                                ...   \n",
              "37417  zzd4ydafGR0  Lil Tjay - Calling My Phone (feat. 6LACK) [Off...   \n",
              "37418  zziBybeSAtw  PELICANS at LAKERS | FULL GAME HIGHLIGHTS | Ja...   \n",
              "37419  zzk09ESX7e0                 [MV]  (MAMAMOO) - Where Are We Now   \n",
              "37420  zzmQEb0Em5I              FELLIPE ESCUDERO- Master Podcast  #12   \n",
              "37421  zzxPZwaA-8w  Gareth Bale brace secures dramatic comeback on...   \n",
              "\n",
              "                     channel_id          channel_title         published_at  \\\n",
              "0      UC6UL29enLNe4mqwTfAyeNuw             Bundesliga  2021-07-01 10:00:00   \n",
              "1      UCGIelM2Dj3zza3xyV3pL3WQ              MigosVEVO  2021-06-10 16:00:00   \n",
              "2      UClBKH8yZRcM4AsRjDVEdjMg     Television Academy  2021-09-20 01:03:32   \n",
              "3      UCsmXiDP8S40uBeJYxvyulmA                    JO1  2021-03-03 10:00:17   \n",
              "4      UCMOqf8ab-42UUQIdVoKwjlQ  Practical Engineering  2021-12-07 13:00:00   \n",
              "...                         ...                    ...                  ...   \n",
              "37417  UCEB4a5o_6KfjxHwNMnmj54Q               Lil Tjay  2021-02-12 05:03:49   \n",
              "37418  UCWJ2lWNubArHWmf3FIHbfcQ                    NBA  2021-01-16 05:39:05   \n",
              "37419  UCuhAUMLzJxlP1W7mEk0_6lA                MAMAMOO  2021-06-02 09:00:10   \n",
              "37420  UC8NjnNWMsRqq11NYvHAQb1g         Master Podcast  2020-10-20 20:59:30   \n",
              "37421  UCEg25rdRZXg32iwai6N6l0w      Tottenham Hotspur  2021-05-23 21:00:31   \n",
              "\n",
              "       view_count    likes  dislikes  comment_count  \\\n",
              "0         1048888    19515       226           1319   \n",
              "1        15352638   359277      7479          18729   \n",
              "2          925281    11212       401            831   \n",
              "3         2641597    39131       441           3745   \n",
              "4          715724    32887       367           1067   \n",
              "...           ...      ...       ...            ...   \n",
              "37417   120408275  2180780     35871          81360   \n",
              "37418     2841917    20759      1049           2624   \n",
              "37419    13346678   720854      4426          90616   \n",
              "37420      252057    19198      1234           1471   \n",
              "37421     2252090    34063       868           2004   \n",
              "\n",
              "                                                    tags  \\\n",
              "0      football soccer ftbol alemn Bundesliga season ...   \n",
              "1      Migos Avalanche Quality Control Music/Motown R...   \n",
              "2                                                          \n",
              "3      PRODUCE101JAPAN              JO1   TheSTAR STA...   \n",
              "4      retaining wall New Jersey highway Direct Conne...   \n",
              "...                                                  ...   \n",
              "37417  Lil Tjay Steady Calling My Phone Calling My Ph...   \n",
              "37418  NBA G League Basketball game-0022000187 Lakers...   \n",
              "37419  MAMAMOO  WAW  WAW MAMAMOO WAW Where Are We Now...   \n",
              "37420  master masterpodcast lord lord vinheteiro z z ...   \n",
              "37421  Spurs Tottenham Hotspur   Tottenham Leicester ...   \n",
              "\n",
              "                                             description  \\\n",
              "0      Enjoy the best skills and goals from Jadon San...   \n",
              "1      Watch the the official video for Migos - \"Aval...   \n",
              "2      Hannah Waddingham wins the Emmy for Supporting...   \n",
              "3      JO1'YOUNG (JO1 ver.)' PERFORMANCE VIDEO\\n\\n---...   \n",
              "4      One of the most important (and innocuous) part...   \n",
              "...                                                  ...   \n",
              "37417  Official video for \"Calling My Phone\" by Lil T...   \n",
              "37418  PELICANS at LAKERS | FULL GAME HIGHLIGHTS | Ja...   \n",
              "37419  [MV]  (MAMAMOO) - Where Are We Now\\n\\nInstagra...   \n",
              "37420  DOCTOR HAIR\\nhttps://www.thedoctorhair.com/?fb...   \n",
              "37421  Two minute highlights from Tottenham Hotspur's...   \n",
              "\n",
              "                                                comments  \n",
              "0      Respect to Dortmund fans,must be sad losing hi...  \n",
              "1      Migos just makes me want to live my live to th...  \n",
              "2      Hannah's energy bursts through any screen. Wel...  \n",
              "3      youngVer><  REN is really PERFECT. It's not ju...  \n",
              "4       Keep up with all my projects here: https://pr...  \n",
              "...                                                  ...  \n",
              "37417  'DESTINED 2 WIN' OUT NOW !! https://liltjay.ln...  \n",
              "37418  Montrezl Harrell is going crazy with the rebou...  \n",
              "37419  I honestly do not know why this song hit so ha...  \n",
              "37420  Foi um prazer passar esta tarde com vocs debat...  \n",
              "37421  Thank you Kane for everything you have given t...  \n",
              "\n",
              "[37264 rows x 12 columns]"
            ],
            "text/html": [
              "\n",
              "  <div id=\"df-5acb1ff2-ae6d-4ff2-a67c-4ecb59de5fe7\">\n",
              "    <div class=\"colab-df-container\">\n",
              "      <div>\n",
              "<style scoped>\n",
              "    .dataframe tbody tr th:only-of-type {\n",
              "        vertical-align: middle;\n",
              "    }\n",
              "\n",
              "    .dataframe tbody tr th {\n",
              "        vertical-align: top;\n",
              "    }\n",
              "\n",
              "    .dataframe thead th {\n",
              "        text-align: right;\n",
              "    }\n",
              "</style>\n",
              "<table border=\"1\" class=\"dataframe\">\n",
              "  <thead>\n",
              "    <tr style=\"text-align: right;\">\n",
              "      <th></th>\n",
              "      <th>video_id</th>\n",
              "      <th>title</th>\n",
              "      <th>channel_id</th>\n",
              "      <th>channel_title</th>\n",
              "      <th>published_at</th>\n",
              "      <th>view_count</th>\n",
              "      <th>likes</th>\n",
              "      <th>dislikes</th>\n",
              "      <th>comment_count</th>\n",
              "      <th>tags</th>\n",
              "      <th>description</th>\n",
              "      <th>comments</th>\n",
              "    </tr>\n",
              "  </thead>\n",
              "  <tbody>\n",
              "    <tr>\n",
              "      <th>0</th>\n",
              "      <td>--0bCF-iK2E</td>\n",
              "      <td>Jadon Sancho  Magical Skills &amp; Goals</td>\n",
              "      <td>UC6UL29enLNe4mqwTfAyeNuw</td>\n",
              "      <td>Bundesliga</td>\n",
              "      <td>2021-07-01 10:00:00</td>\n",
              "      <td>1048888</td>\n",
              "      <td>19515</td>\n",
              "      <td>226</td>\n",
              "      <td>1319</td>\n",
              "      <td>football soccer ftbol alemn Bundesliga season ...</td>\n",
              "      <td>Enjoy the best skills and goals from Jadon San...</td>\n",
              "      <td>Respect to Dortmund fans,must be sad losing hi...</td>\n",
              "    </tr>\n",
              "    <tr>\n",
              "      <th>1</th>\n",
              "      <td>--14w5SOEUs</td>\n",
              "      <td>Migos - Avalanche (Official Video)</td>\n",
              "      <td>UCGIelM2Dj3zza3xyV3pL3WQ</td>\n",
              "      <td>MigosVEVO</td>\n",
              "      <td>2021-06-10 16:00:00</td>\n",
              "      <td>15352638</td>\n",
              "      <td>359277</td>\n",
              "      <td>7479</td>\n",
              "      <td>18729</td>\n",
              "      <td>Migos Avalanche Quality Control Music/Motown R...</td>\n",
              "      <td>Watch the the official video for Migos - \"Aval...</td>\n",
              "      <td>Migos just makes me want to live my live to th...</td>\n",
              "    </tr>\n",
              "    <tr>\n",
              "      <th>2</th>\n",
              "      <td>--40TEbZ9Is</td>\n",
              "      <td>Supporting Actress in a Comedy: 73rd Emmys</td>\n",
              "      <td>UClBKH8yZRcM4AsRjDVEdjMg</td>\n",
              "      <td>Television Academy</td>\n",
              "      <td>2021-09-20 01:03:32</td>\n",
              "      <td>925281</td>\n",
              "      <td>11212</td>\n",
              "      <td>401</td>\n",
              "      <td>831</td>\n",
              "      <td></td>\n",
              "      <td>Hannah Waddingham wins the Emmy for Supporting...</td>\n",
              "      <td>Hannah's energy bursts through any screen. Wel...</td>\n",
              "    </tr>\n",
              "    <tr>\n",
              "      <th>3</th>\n",
              "      <td>--4tfbSyYDE</td>\n",
              "      <td>JO1'YOUNG (JO1 ver.)' PERFORMANCE VIDEO</td>\n",
              "      <td>UCsmXiDP8S40uBeJYxvyulmA</td>\n",
              "      <td>JO1</td>\n",
              "      <td>2021-03-03 10:00:17</td>\n",
              "      <td>2641597</td>\n",
              "      <td>39131</td>\n",
              "      <td>441</td>\n",
              "      <td>3745</td>\n",
              "      <td>PRODUCE101JAPAN              JO1   TheSTAR STA...</td>\n",
              "      <td>JO1'YOUNG (JO1 ver.)' PERFORMANCE VIDEO\\n\\n---...</td>\n",
              "      <td>youngVer&gt;&lt;  REN is really PERFECT. It's not ju...</td>\n",
              "    </tr>\n",
              "    <tr>\n",
              "      <th>4</th>\n",
              "      <td>--DKkzWVh-E</td>\n",
              "      <td>Why Retaining Walls Collapse</td>\n",
              "      <td>UCMOqf8ab-42UUQIdVoKwjlQ</td>\n",
              "      <td>Practical Engineering</td>\n",
              "      <td>2021-12-07 13:00:00</td>\n",
              "      <td>715724</td>\n",
              "      <td>32887</td>\n",
              "      <td>367</td>\n",
              "      <td>1067</td>\n",
              "      <td>retaining wall New Jersey highway Direct Conne...</td>\n",
              "      <td>One of the most important (and innocuous) part...</td>\n",
              "      <td>Keep up with all my projects here: https://pr...</td>\n",
              "    </tr>\n",
              "    <tr>\n",
              "      <th>...</th>\n",
              "      <td>...</td>\n",
              "      <td>...</td>\n",
              "      <td>...</td>\n",
              "      <td>...</td>\n",
              "      <td>...</td>\n",
              "      <td>...</td>\n",
              "      <td>...</td>\n",
              "      <td>...</td>\n",
              "      <td>...</td>\n",
              "      <td>...</td>\n",
              "      <td>...</td>\n",
              "      <td>...</td>\n",
              "    </tr>\n",
              "    <tr>\n",
              "      <th>37417</th>\n",
              "      <td>zzd4ydafGR0</td>\n",
              "      <td>Lil Tjay - Calling My Phone (feat. 6LACK) [Off...</td>\n",
              "      <td>UCEB4a5o_6KfjxHwNMnmj54Q</td>\n",
              "      <td>Lil Tjay</td>\n",
              "      <td>2021-02-12 05:03:49</td>\n",
              "      <td>120408275</td>\n",
              "      <td>2180780</td>\n",
              "      <td>35871</td>\n",
              "      <td>81360</td>\n",
              "      <td>Lil Tjay Steady Calling My Phone Calling My Ph...</td>\n",
              "      <td>Official video for \"Calling My Phone\" by Lil T...</td>\n",
              "      <td>'DESTINED 2 WIN' OUT NOW !! https://liltjay.ln...</td>\n",
              "    </tr>\n",
              "    <tr>\n",
              "      <th>37418</th>\n",
              "      <td>zziBybeSAtw</td>\n",
              "      <td>PELICANS at LAKERS | FULL GAME HIGHLIGHTS | Ja...</td>\n",
              "      <td>UCWJ2lWNubArHWmf3FIHbfcQ</td>\n",
              "      <td>NBA</td>\n",
              "      <td>2021-01-16 05:39:05</td>\n",
              "      <td>2841917</td>\n",
              "      <td>20759</td>\n",
              "      <td>1049</td>\n",
              "      <td>2624</td>\n",
              "      <td>NBA G League Basketball game-0022000187 Lakers...</td>\n",
              "      <td>PELICANS at LAKERS | FULL GAME HIGHLIGHTS | Ja...</td>\n",
              "      <td>Montrezl Harrell is going crazy with the rebou...</td>\n",
              "    </tr>\n",
              "    <tr>\n",
              "      <th>37419</th>\n",
              "      <td>zzk09ESX7e0</td>\n",
              "      <td>[MV]  (MAMAMOO) - Where Are We Now</td>\n",
              "      <td>UCuhAUMLzJxlP1W7mEk0_6lA</td>\n",
              "      <td>MAMAMOO</td>\n",
              "      <td>2021-06-02 09:00:10</td>\n",
              "      <td>13346678</td>\n",
              "      <td>720854</td>\n",
              "      <td>4426</td>\n",
              "      <td>90616</td>\n",
              "      <td>MAMAMOO  WAW  WAW MAMAMOO WAW Where Are We Now...</td>\n",
              "      <td>[MV]  (MAMAMOO) - Where Are We Now\\n\\nInstagra...</td>\n",
              "      <td>I honestly do not know why this song hit so ha...</td>\n",
              "    </tr>\n",
              "    <tr>\n",
              "      <th>37420</th>\n",
              "      <td>zzmQEb0Em5I</td>\n",
              "      <td>FELLIPE ESCUDERO- Master Podcast  #12</td>\n",
              "      <td>UC8NjnNWMsRqq11NYvHAQb1g</td>\n",
              "      <td>Master Podcast</td>\n",
              "      <td>2020-10-20 20:59:30</td>\n",
              "      <td>252057</td>\n",
              "      <td>19198</td>\n",
              "      <td>1234</td>\n",
              "      <td>1471</td>\n",
              "      <td>master masterpodcast lord lord vinheteiro z z ...</td>\n",
              "      <td>DOCTOR HAIR\\nhttps://www.thedoctorhair.com/?fb...</td>\n",
              "      <td>Foi um prazer passar esta tarde com vocs debat...</td>\n",
              "    </tr>\n",
              "    <tr>\n",
              "      <th>37421</th>\n",
              "      <td>zzxPZwaA-8w</td>\n",
              "      <td>Gareth Bale brace secures dramatic comeback on...</td>\n",
              "      <td>UCEg25rdRZXg32iwai6N6l0w</td>\n",
              "      <td>Tottenham Hotspur</td>\n",
              "      <td>2021-05-23 21:00:31</td>\n",
              "      <td>2252090</td>\n",
              "      <td>34063</td>\n",
              "      <td>868</td>\n",
              "      <td>2004</td>\n",
              "      <td>Spurs Tottenham Hotspur   Tottenham Leicester ...</td>\n",
              "      <td>Two minute highlights from Tottenham Hotspur's...</td>\n",
              "      <td>Thank you Kane for everything you have given t...</td>\n",
              "    </tr>\n",
              "  </tbody>\n",
              "</table>\n",
              "<p>37264 rows × 12 columns</p>\n",
              "</div>\n",
              "      <button class=\"colab-df-convert\" onclick=\"convertToInteractive('df-5acb1ff2-ae6d-4ff2-a67c-4ecb59de5fe7')\"\n",
              "              title=\"Convert this dataframe to an interactive table.\"\n",
              "              style=\"display:none;\">\n",
              "        \n",
              "  <svg xmlns=\"http://www.w3.org/2000/svg\" height=\"24px\"viewBox=\"0 0 24 24\"\n",
              "       width=\"24px\">\n",
              "    <path d=\"M0 0h24v24H0V0z\" fill=\"none\"/>\n",
              "    <path d=\"M18.56 5.44l.94 2.06.94-2.06 2.06-.94-2.06-.94-.94-2.06-.94 2.06-2.06.94zm-11 1L8.5 8.5l.94-2.06 2.06-.94-2.06-.94L8.5 2.5l-.94 2.06-2.06.94zm10 10l.94 2.06.94-2.06 2.06-.94-2.06-.94-.94-2.06-.94 2.06-2.06.94z\"/><path d=\"M17.41 7.96l-1.37-1.37c-.4-.4-.92-.59-1.43-.59-.52 0-1.04.2-1.43.59L10.3 9.45l-7.72 7.72c-.78.78-.78 2.05 0 2.83L4 21.41c.39.39.9.59 1.41.59.51 0 1.02-.2 1.41-.59l7.78-7.78 2.81-2.81c.8-.78.8-2.07 0-2.86zM5.41 20L4 18.59l7.72-7.72 1.47 1.35L5.41 20z\"/>\n",
              "  </svg>\n",
              "      </button>\n",
              "      \n",
              "  <style>\n",
              "    .colab-df-container {\n",
              "      display:flex;\n",
              "      flex-wrap:wrap;\n",
              "      gap: 12px;\n",
              "    }\n",
              "\n",
              "    .colab-df-convert {\n",
              "      background-color: #E8F0FE;\n",
              "      border: none;\n",
              "      border-radius: 50%;\n",
              "      cursor: pointer;\n",
              "      display: none;\n",
              "      fill: #1967D2;\n",
              "      height: 32px;\n",
              "      padding: 0 0 0 0;\n",
              "      width: 32px;\n",
              "    }\n",
              "\n",
              "    .colab-df-convert:hover {\n",
              "      background-color: #E2EBFA;\n",
              "      box-shadow: 0px 1px 2px rgba(60, 64, 67, 0.3), 0px 1px 3px 1px rgba(60, 64, 67, 0.15);\n",
              "      fill: #174EA6;\n",
              "    }\n",
              "\n",
              "    [theme=dark] .colab-df-convert {\n",
              "      background-color: #3B4455;\n",
              "      fill: #D2E3FC;\n",
              "    }\n",
              "\n",
              "    [theme=dark] .colab-df-convert:hover {\n",
              "      background-color: #434B5C;\n",
              "      box-shadow: 0px 1px 3px 1px rgba(0, 0, 0, 0.15);\n",
              "      filter: drop-shadow(0px 1px 2px rgba(0, 0, 0, 0.3));\n",
              "      fill: #FFFFFF;\n",
              "    }\n",
              "  </style>\n",
              "\n",
              "      <script>\n",
              "        const buttonEl =\n",
              "          document.querySelector('#df-5acb1ff2-ae6d-4ff2-a67c-4ecb59de5fe7 button.colab-df-convert');\n",
              "        buttonEl.style.display =\n",
              "          google.colab.kernel.accessAllowed ? 'block' : 'none';\n",
              "\n",
              "        async function convertToInteractive(key) {\n",
              "          const element = document.querySelector('#df-5acb1ff2-ae6d-4ff2-a67c-4ecb59de5fe7');\n",
              "          const dataTable =\n",
              "            await google.colab.kernel.invokeFunction('convertToInteractive',\n",
              "                                                     [key], {});\n",
              "          if (!dataTable) return;\n",
              "\n",
              "          const docLinkHtml = 'Like what you see? Visit the ' +\n",
              "            '<a target=\"_blank\" href=https://colab.research.google.com/notebooks/data_table.ipynb>data table notebook</a>'\n",
              "            + ' to learn more about interactive tables.';\n",
              "          element.innerHTML = '';\n",
              "          dataTable['output_type'] = 'display_data';\n",
              "          await google.colab.output.renderOutput(dataTable, element);\n",
              "          const docLink = document.createElement('div');\n",
              "          docLink.innerHTML = docLinkHtml;\n",
              "          element.appendChild(docLink);\n",
              "        }\n",
              "      </script>\n",
              "    </div>\n",
              "  </div>\n",
              "  "
            ]
          },
          "metadata": {},
          "execution_count": 30
        }
      ]
    },
    {
      "cell_type": "code",
      "source": [
        "Data.isnull().sum()"
      ],
      "metadata": {
        "id": "NOwhpZRgjl8m",
        "colab": {
          "base_uri": "https://localhost:8080/"
        },
        "outputId": "3adf8a64-f734-43c8-ee12-c3fe7ffaba7a"
      },
      "execution_count": null,
      "outputs": [
        {
          "output_type": "execute_result",
          "data": {
            "text/plain": [
              "video_id           0\n",
              "title              0\n",
              "channel_id         0\n",
              "channel_title      0\n",
              "published_at       0\n",
              "view_count         0\n",
              "likes              0\n",
              "dislikes           0\n",
              "comment_count      0\n",
              "tags               0\n",
              "description        0\n",
              "comments         158\n",
              "dtype: int64"
            ]
          },
          "metadata": {},
          "execution_count": 31
        }
      ]
    },
    {
      "cell_type": "code",
      "source": [
        "from abc import ABC,abstractmethod"
      ],
      "metadata": {
        "colab": {
          "base_uri": "https://localhost:8080/",
          "height": 314
        },
        "id": "mKr-JFwJScDn",
        "outputId": "95765c7c-049a-439f-fe95-5baa328b2611"
      },
      "execution_count": null,
      "outputs": [
        {
          "output_type": "error",
          "ename": "ImportError",
          "evalue": "ignored",
          "traceback": [
            "\u001b[0;31m---------------------------------------------------------------------------\u001b[0m",
            "\u001b[0;31mImportError\u001b[0m                               Traceback (most recent call last)",
            "\u001b[0;32m<ipython-input-1-c735a037411b>\u001b[0m in \u001b[0;36m<module>\u001b[0;34m\u001b[0m\n\u001b[0;32m----> 1\u001b[0;31m \u001b[0;32mfrom\u001b[0m \u001b[0mabc\u001b[0m \u001b[0;32mimport\u001b[0m \u001b[0mABC\u001b[0m\u001b[0;34m,\u001b[0m\u001b[0mabstarsctmethod\u001b[0m\u001b[0;34m\u001b[0m\u001b[0;34m\u001b[0m\u001b[0m\n\u001b[0m",
            "\u001b[0;31mImportError\u001b[0m: cannot import name 'abstarsctmethod' from 'abc' (/usr/lib/python3.9/abc.py)",
            "",
            "\u001b[0;31m---------------------------------------------------------------------------\u001b[0;32m\nNOTE: If your import is failing due to a missing package, you can\nmanually install dependencies using either !pip or !apt.\n\nTo view examples of installing some common dependencies, click the\n\"Open Examples\" button below.\n\u001b[0;31m---------------------------------------------------------------------------\u001b[0m\n"
          ],
          "errorDetails": {
            "actions": [
              {
                "action": "open_url",
                "actionText": "Open Examples",
                "url": "/notebooks/snippets/importing_libraries.ipynb"
              }
            ]
          }
        }
      ]
    },
    {
      "cell_type": "code",
      "source": [
        "Data.fillna(0,inplace=True)\n"
      ],
      "metadata": {
        "id": "Bxo-8330oP5k"
      },
      "execution_count": null,
      "outputs": []
    },
    {
      "cell_type": "code",
      "source": [],
      "metadata": {
        "id": "kDKL0P0biVjS"
      },
      "execution_count": null,
      "outputs": []
    },
    {
      "cell_type": "code",
      "source": [
        "Data.isnull().sum()"
      ],
      "metadata": {
        "id": "VoA4B_-6odxm",
        "colab": {
          "base_uri": "https://localhost:8080/"
        },
        "outputId": "af3a8aca-de92-4f5f-f387-86e4b3236fbb"
      },
      "execution_count": null,
      "outputs": [
        {
          "output_type": "execute_result",
          "data": {
            "text/plain": [
              "video_id         0\n",
              "title            0\n",
              "channel_id       0\n",
              "channel_title    0\n",
              "published_at     0\n",
              "view_count       0\n",
              "likes            0\n",
              "dislikes         0\n",
              "comment_count    0\n",
              "tags             0\n",
              "description      0\n",
              "comments         0\n",
              "dtype: int64"
            ]
          },
          "metadata": {},
          "execution_count": 33
        }
      ]
    },
    {
      "cell_type": "code",
      "source": [
        "Data.describe()###staticts"
      ],
      "metadata": {
        "id": "nmniKIySokQc",
        "colab": {
          "base_uri": "https://localhost:8080/",
          "height": 300
        },
        "outputId": "6e6a6601-a02f-4651-a78a-971501f1d3d2"
      },
      "execution_count": null,
      "outputs": [
        {
          "output_type": "execute_result",
          "data": {
            "text/plain": [
              "         view_count         likes      dislikes  comment_count\n",
              "count  3.742200e+04  3.742200e+04  3.742200e+04   3.742200e+04\n",
              "mean   5.697838e+06  1.668147e+05  4.989862e+03   9.924930e+03\n",
              "std    2.426622e+07  5.375670e+05  3.070824e+04   1.171003e+05\n",
              "min    2.036800e+04  0.000000e+00  0.000000e+00   0.000000e+00\n",
              "25%    5.122970e+05  1.323350e+04  2.810000e+02   9.000000e+02\n",
              "50%    1.319078e+06  4.233050e+04  7.960000e+02   2.328000e+03\n",
              "75%    3.670231e+06  1.304698e+05  2.461750e+03   6.184000e+03\n",
              "max    1.322797e+09  3.183768e+07  2.397733e+06   1.607103e+07"
            ],
            "text/html": [
              "\n",
              "  <div id=\"df-bb934539-b802-469d-88a7-9301c61efa6c\">\n",
              "    <div class=\"colab-df-container\">\n",
              "      <div>\n",
              "<style scoped>\n",
              "    .dataframe tbody tr th:only-of-type {\n",
              "        vertical-align: middle;\n",
              "    }\n",
              "\n",
              "    .dataframe tbody tr th {\n",
              "        vertical-align: top;\n",
              "    }\n",
              "\n",
              "    .dataframe thead th {\n",
              "        text-align: right;\n",
              "    }\n",
              "</style>\n",
              "<table border=\"1\" class=\"dataframe\">\n",
              "  <thead>\n",
              "    <tr style=\"text-align: right;\">\n",
              "      <th></th>\n",
              "      <th>view_count</th>\n",
              "      <th>likes</th>\n",
              "      <th>dislikes</th>\n",
              "      <th>comment_count</th>\n",
              "    </tr>\n",
              "  </thead>\n",
              "  <tbody>\n",
              "    <tr>\n",
              "      <th>count</th>\n",
              "      <td>3.742200e+04</td>\n",
              "      <td>3.742200e+04</td>\n",
              "      <td>3.742200e+04</td>\n",
              "      <td>3.742200e+04</td>\n",
              "    </tr>\n",
              "    <tr>\n",
              "      <th>mean</th>\n",
              "      <td>5.697838e+06</td>\n",
              "      <td>1.668147e+05</td>\n",
              "      <td>4.989862e+03</td>\n",
              "      <td>9.924930e+03</td>\n",
              "    </tr>\n",
              "    <tr>\n",
              "      <th>std</th>\n",
              "      <td>2.426622e+07</td>\n",
              "      <td>5.375670e+05</td>\n",
              "      <td>3.070824e+04</td>\n",
              "      <td>1.171003e+05</td>\n",
              "    </tr>\n",
              "    <tr>\n",
              "      <th>min</th>\n",
              "      <td>2.036800e+04</td>\n",
              "      <td>0.000000e+00</td>\n",
              "      <td>0.000000e+00</td>\n",
              "      <td>0.000000e+00</td>\n",
              "    </tr>\n",
              "    <tr>\n",
              "      <th>25%</th>\n",
              "      <td>5.122970e+05</td>\n",
              "      <td>1.323350e+04</td>\n",
              "      <td>2.810000e+02</td>\n",
              "      <td>9.000000e+02</td>\n",
              "    </tr>\n",
              "    <tr>\n",
              "      <th>50%</th>\n",
              "      <td>1.319078e+06</td>\n",
              "      <td>4.233050e+04</td>\n",
              "      <td>7.960000e+02</td>\n",
              "      <td>2.328000e+03</td>\n",
              "    </tr>\n",
              "    <tr>\n",
              "      <th>75%</th>\n",
              "      <td>3.670231e+06</td>\n",
              "      <td>1.304698e+05</td>\n",
              "      <td>2.461750e+03</td>\n",
              "      <td>6.184000e+03</td>\n",
              "    </tr>\n",
              "    <tr>\n",
              "      <th>max</th>\n",
              "      <td>1.322797e+09</td>\n",
              "      <td>3.183768e+07</td>\n",
              "      <td>2.397733e+06</td>\n",
              "      <td>1.607103e+07</td>\n",
              "    </tr>\n",
              "  </tbody>\n",
              "</table>\n",
              "</div>\n",
              "      <button class=\"colab-df-convert\" onclick=\"convertToInteractive('df-bb934539-b802-469d-88a7-9301c61efa6c')\"\n",
              "              title=\"Convert this dataframe to an interactive table.\"\n",
              "              style=\"display:none;\">\n",
              "        \n",
              "  <svg xmlns=\"http://www.w3.org/2000/svg\" height=\"24px\"viewBox=\"0 0 24 24\"\n",
              "       width=\"24px\">\n",
              "    <path d=\"M0 0h24v24H0V0z\" fill=\"none\"/>\n",
              "    <path d=\"M18.56 5.44l.94 2.06.94-2.06 2.06-.94-2.06-.94-.94-2.06-.94 2.06-2.06.94zm-11 1L8.5 8.5l.94-2.06 2.06-.94-2.06-.94L8.5 2.5l-.94 2.06-2.06.94zm10 10l.94 2.06.94-2.06 2.06-.94-2.06-.94-.94-2.06-.94 2.06-2.06.94z\"/><path d=\"M17.41 7.96l-1.37-1.37c-.4-.4-.92-.59-1.43-.59-.52 0-1.04.2-1.43.59L10.3 9.45l-7.72 7.72c-.78.78-.78 2.05 0 2.83L4 21.41c.39.39.9.59 1.41.59.51 0 1.02-.2 1.41-.59l7.78-7.78 2.81-2.81c.8-.78.8-2.07 0-2.86zM5.41 20L4 18.59l7.72-7.72 1.47 1.35L5.41 20z\"/>\n",
              "  </svg>\n",
              "      </button>\n",
              "      \n",
              "  <style>\n",
              "    .colab-df-container {\n",
              "      display:flex;\n",
              "      flex-wrap:wrap;\n",
              "      gap: 12px;\n",
              "    }\n",
              "\n",
              "    .colab-df-convert {\n",
              "      background-color: #E8F0FE;\n",
              "      border: none;\n",
              "      border-radius: 50%;\n",
              "      cursor: pointer;\n",
              "      display: none;\n",
              "      fill: #1967D2;\n",
              "      height: 32px;\n",
              "      padding: 0 0 0 0;\n",
              "      width: 32px;\n",
              "    }\n",
              "\n",
              "    .colab-df-convert:hover {\n",
              "      background-color: #E2EBFA;\n",
              "      box-shadow: 0px 1px 2px rgba(60, 64, 67, 0.3), 0px 1px 3px 1px rgba(60, 64, 67, 0.15);\n",
              "      fill: #174EA6;\n",
              "    }\n",
              "\n",
              "    [theme=dark] .colab-df-convert {\n",
              "      background-color: #3B4455;\n",
              "      fill: #D2E3FC;\n",
              "    }\n",
              "\n",
              "    [theme=dark] .colab-df-convert:hover {\n",
              "      background-color: #434B5C;\n",
              "      box-shadow: 0px 1px 3px 1px rgba(0, 0, 0, 0.15);\n",
              "      filter: drop-shadow(0px 1px 2px rgba(0, 0, 0, 0.3));\n",
              "      fill: #FFFFFF;\n",
              "    }\n",
              "  </style>\n",
              "\n",
              "      <script>\n",
              "        const buttonEl =\n",
              "          document.querySelector('#df-bb934539-b802-469d-88a7-9301c61efa6c button.colab-df-convert');\n",
              "        buttonEl.style.display =\n",
              "          google.colab.kernel.accessAllowed ? 'block' : 'none';\n",
              "\n",
              "        async function convertToInteractive(key) {\n",
              "          const element = document.querySelector('#df-bb934539-b802-469d-88a7-9301c61efa6c');\n",
              "          const dataTable =\n",
              "            await google.colab.kernel.invokeFunction('convertToInteractive',\n",
              "                                                     [key], {});\n",
              "          if (!dataTable) return;\n",
              "\n",
              "          const docLinkHtml = 'Like what you see? Visit the ' +\n",
              "            '<a target=\"_blank\" href=https://colab.research.google.com/notebooks/data_table.ipynb>data table notebook</a>'\n",
              "            + ' to learn more about interactive tables.';\n",
              "          element.innerHTML = '';\n",
              "          dataTable['output_type'] = 'display_data';\n",
              "          await google.colab.output.renderOutput(dataTable, element);\n",
              "          const docLink = document.createElement('div');\n",
              "          docLink.innerHTML = docLinkHtml;\n",
              "          element.appendChild(docLink);\n",
              "        }\n",
              "      </script>\n",
              "    </div>\n",
              "  </div>\n",
              "  "
            ]
          },
          "metadata": {},
          "execution_count": 34
        }
      ]
    },
    {
      "cell_type": "code",
      "source": [
        "Data=pd.DataFrame(Data)"
      ],
      "metadata": {
        "id": "dfhYAheJo2RO"
      },
      "execution_count": null,
      "outputs": []
    },
    {
      "cell_type": "code",
      "source": [
        "Data.dtypes"
      ],
      "metadata": {
        "id": "y_UfM3YRpRhR",
        "colab": {
          "base_uri": "https://localhost:8080/"
        },
        "outputId": "15e13d2b-eb18-45a5-c98f-6dc9c2530c10"
      },
      "execution_count": null,
      "outputs": [
        {
          "output_type": "execute_result",
          "data": {
            "text/plain": [
              "video_id         object\n",
              "title            object\n",
              "channel_id       object\n",
              "channel_title    object\n",
              "published_at     object\n",
              "view_count        int64\n",
              "likes             int64\n",
              "dislikes          int64\n",
              "comment_count     int64\n",
              "tags             object\n",
              "description      object\n",
              "comments         object\n",
              "dtype: object"
            ]
          },
          "metadata": {},
          "execution_count": 36
        }
      ]
    },
    {
      "cell_type": "code",
      "source": [
        "import datetime \n"
      ],
      "metadata": {
        "id": "sHCFipqJpYiQ"
      },
      "execution_count": null,
      "outputs": []
    },
    {
      "cell_type": "code",
      "source": [
        "Data[ 'published_at']=pd.to_datetime(Data['published_at'])\n"
      ],
      "metadata": {
        "id": "Kp32yiIIcy9z"
      },
      "execution_count": null,
      "outputs": []
    },
    {
      "cell_type": "code",
      "source": [
        "Data['published_at'].dtypes"
      ],
      "metadata": {
        "id": "l30Ofpn3qpXc",
        "colab": {
          "base_uri": "https://localhost:8080/"
        },
        "outputId": "c40dd844-89c9-42b0-fc7c-acdf7aa20340"
      },
      "execution_count": null,
      "outputs": [
        {
          "output_type": "execute_result",
          "data": {
            "text/plain": [
              "dtype('<M8[ns]')"
            ]
          },
          "metadata": {},
          "execution_count": 39
        }
      ]
    },
    {
      "cell_type": "code",
      "source": [
        "Data[ 'published_month']=Data['published_at'].dt.month"
      ],
      "metadata": {
        "id": "tSUeXCK3dVm0"
      },
      "execution_count": null,
      "outputs": []
    },
    {
      "cell_type": "code",
      "source": [
        "Data[ 'published_month']"
      ],
      "metadata": {
        "colab": {
          "base_uri": "https://localhost:8080/"
        },
        "id": "722Jammkdp0u",
        "outputId": "6fd6492e-3d26-43e9-9194-2fad39536cc2"
      },
      "execution_count": null,
      "outputs": [
        {
          "output_type": "execute_result",
          "data": {
            "text/plain": [
              "0         7\n",
              "1         6\n",
              "2         9\n",
              "3         3\n",
              "4        12\n",
              "         ..\n",
              "37417     2\n",
              "37418     1\n",
              "37419     6\n",
              "37420    10\n",
              "37421     5\n",
              "Name: published_month, Length: 37422, dtype: int64"
            ]
          },
          "metadata": {},
          "execution_count": 41
        }
      ]
    },
    {
      "cell_type": "code",
      "source": [
        "month_map={1:'jan',2:'Feb',3:'mar',4:'Apr',5:\"may\",6:\"june\",7:\"july\",8:\"aug\",9:\"sep\",10:\"oct\",11:\"nov\",12:\"dec\"}\n",
        "Data['published_month']=Data[ 'published_month'].apply(lambda x:month_map[x])"
      ],
      "metadata": {
        "id": "7GLkVRZSdvpt"
      },
      "execution_count": null,
      "outputs": []
    },
    {
      "cell_type": "code",
      "source": [
        "Data['published_month']"
      ],
      "metadata": {
        "colab": {
          "base_uri": "https://localhost:8080/"
        },
        "id": "lbJbVhnBg_bu",
        "outputId": "c5b70e50-d10e-4802-8cc8-ec9fdaab69c4"
      },
      "execution_count": null,
      "outputs": [
        {
          "output_type": "execute_result",
          "data": {
            "text/plain": [
              "0        july\n",
              "1        june\n",
              "2         sep\n",
              "3         mar\n",
              "4         dec\n",
              "         ... \n",
              "37417     Feb\n",
              "37418     jan\n",
              "37419    june\n",
              "37420     oct\n",
              "37421     may\n",
              "Name: published_month, Length: 37422, dtype: object"
            ]
          },
          "metadata": {},
          "execution_count": 46
        }
      ]
    },
    {
      "cell_type": "code",
      "source": [
        "monthly_counts=Data[ 'published_at'].dt.month.value_counts()\n",
        "monthly_counts=monthly_counts.sort_index(ascending=False)\n",
        "monthly_counts\n"
      ],
      "metadata": {
        "colab": {
          "base_uri": "https://localhost:8080/"
        },
        "id": "32OoVuXVdv8M",
        "outputId": "53251e01-c287-43bf-edc1-e0ab4abe46f4"
      },
      "execution_count": null,
      "outputs": [
        {
          "output_type": "execute_result",
          "data": {
            "text/plain": [
              "12    3072\n",
              "11    4851\n",
              "10    4991\n",
              "9     4880\n",
              "8     4262\n",
              "7     2340\n",
              "6     2316\n",
              "5     2081\n",
              "4     2126\n",
              "3     2258\n",
              "2     2137\n",
              "1     2108\n",
              "Name: published_at, dtype: int64"
            ]
          },
          "metadata": {},
          "execution_count": 48
        }
      ]
    },
    {
      "cell_type": "code",
      "source": [
        "video_uniq=Data[\"video_id\"].unique()"
      ],
      "metadata": {
        "id": "mSWs4vmpdv_j"
      },
      "execution_count": null,
      "outputs": []
    },
    {
      "cell_type": "code",
      "source": [
        "len(video_uniq)"
      ],
      "metadata": {
        "colab": {
          "base_uri": "https://localhost:8080/"
        },
        "id": "6WLd0FkfdwCG",
        "outputId": "46e36d56-55dc-4fec-d35b-ff84cab72659"
      },
      "execution_count": null,
      "outputs": [
        {
          "output_type": "execute_result",
          "data": {
            "text/plain": [
              "37422"
            ]
          },
          "metadata": {},
          "execution_count": 50
        }
      ]
    },
    {
      "cell_type": "code",
      "source": [
        "channel_id=Data[\"channel_id\"].unique()\n",
        "len(channel_id)"
      ],
      "metadata": {
        "colab": {
          "base_uri": "https://localhost:8080/"
        },
        "id": "hH3NzPawdwja",
        "outputId": "6e8b1731-70f7-41a1-e6e0-0b684998fe85"
      },
      "execution_count": null,
      "outputs": [
        {
          "output_type": "execute_result",
          "data": {
            "text/plain": [
              "10961"
            ]
          },
          "metadata": {},
          "execution_count": 53
        }
      ]
    },
    {
      "cell_type": "code",
      "source": [
        "channel_title_uniq=Data[\"channel_title\"].unique()\n",
        "len(channel_title_uniq)"
      ],
      "metadata": {
        "colab": {
          "base_uri": "https://localhost:8080/"
        },
        "id": "LA3BjnuJdw1F",
        "outputId": "21778d7a-098b-4457-b079-98500d38079b"
      },
      "execution_count": null,
      "outputs": [
        {
          "output_type": "execute_result",
          "data": {
            "text/plain": [
              "10883"
            ]
          },
          "metadata": {},
          "execution_count": 57
        }
      ]
    },
    {
      "cell_type": "code",
      "source": [
        "Data['channel_title'].nunique()"
      ],
      "metadata": {
        "colab": {
          "base_uri": "https://localhost:8080/"
        },
        "id": "bZOsUJuckQuf",
        "outputId": "3b7f7cc5-0dad-42de-984d-244789c806f6"
      },
      "execution_count": null,
      "outputs": [
        {
          "output_type": "execute_result",
          "data": {
            "text/plain": [
              "10883"
            ]
          },
          "metadata": {},
          "execution_count": 65
        }
      ]
    },
    {
      "cell_type": "code",
      "source": [
        "import pandas as pd\n",
        "\n",
        "\n",
        "max_likes_index = Data['likes'].idxmax()\n",
        "min_likes_index = Data['likes'].idxmin()\n",
        "\n",
        "title_with_max_likes = Data.loc[max_likes_index, 'title']\n",
        "title_with_min_likes =Data.loc[min_likes_index, 'title']\n",
        "\n",
        "print(\"Title with maximum likes:\", title_with_max_likes)\n",
        "print(\"Title with minimum likes:\", title_with_min_likes)\n"
      ],
      "metadata": {
        "id": "8DWGmnb3jCLe",
        "colab": {
          "base_uri": "https://localhost:8080/"
        },
        "outputId": "9747dc09-09dc-43c5-c2e2-94ca25fd0017"
      },
      "execution_count": null,
      "outputs": [
        {
          "output_type": "stream",
          "name": "stdout",
          "text": [
            "Title with maximum likes: BTS () 'Dynamite' Official MV\n",
            "Title with minimum likes: Kim Kardashian's Must-See Moments on \"Saturday Night Live\" | E! News\n"
          ]
        }
      ]
    },
    {
      "cell_type": "code",
      "source": [
        "\n",
        "max_dislikes_index = Data['dislikes'].idxmax()\n",
        "min_dislikes_index = Data['dislikes'].idxmin()\n",
        "\n",
        "title_with_max_likes = Data.loc[max_dislikes_index, 'title']\n",
        "title_with_min_likes =Data.loc[min_dislikes_index, 'title']\n",
        "\n",
        "print(\"Title with maximum likes:\", title_with_max_likes)\n",
        "print(\"Title with minimum likes:\", title_with_min_likes)\n"
      ],
      "metadata": {
        "id": "tmwF8ltczbXY",
        "colab": {
          "base_uri": "https://localhost:8080/"
        },
        "outputId": "00507522-2155-4980-9aaa-874198468e73"
      },
      "execution_count": null,
      "outputs": [
        {
          "output_type": "stream",
          "name": "stdout",
          "text": [
            "Title with maximum likes: Cuties | Official Trailer | Netflix\n",
            "Title with minimum likes: Kim Kardashian's Must-See Moments on \"Saturday Night Live\" | E! News\n"
          ]
        }
      ]
    },
    {
      "cell_type": "code",
      "source": [
        "j_video=Data[Data['published_month']==\"jan\"]"
      ],
      "metadata": {
        "id": "1kZ_AK9V0Nvk"
      },
      "execution_count": null,
      "outputs": []
    },
    {
      "cell_type": "code",
      "source": [
        "j_video"
      ],
      "metadata": {
        "colab": {
          "base_uri": "https://localhost:8080/",
          "height": 1000
        },
        "id": "thFVxcrk1HWx",
        "outputId": "4a5f8ab5-146d-43d1-822f-094d3179033e"
      },
      "execution_count": null,
      "outputs": [
        {
          "output_type": "execute_result",
          "data": {
            "text/plain": [
              "          video_id                                              title  \\\n",
              "27     -2Gwm7QfBnE                                    Q&A With Naisha   \n",
              "48     -4sfXSHSxzA           SURPRISING BRENT WITH HIS TIKTOK CRUSH!!   \n",
              "95     -AJD1Fc5rpQ  WE ARE HAVING A BABY! | finding out i'm pregna...   \n",
              "103    -AuJiwjsmWk              Do Ugly Foods Taste Worse? Taste Test   \n",
              "182    -JhqO2KWr5U                                   Schlatt gets fit   \n",
              "...            ...                                                ...   \n",
              "37300  zmzFL5bG-jc  DEVINE MON PERSONNAGE AVANT AKINATOR ! (c'est ...   \n",
              "37329  zpzjex7qwrA  Lampard Sacked Within Days Rorys Misery | Chel...   \n",
              "37345  zqyv-B6mnBM                 Lil Wayne - Ain't Got Time (Audio)   \n",
              "37383  zwfu1-24T7Q  PRADA Cup Day 1 | Full Race Replay | PRADA Cup...   \n",
              "37418  zziBybeSAtw  PELICANS at LAKERS | FULL GAME HIGHLIGHTS | Ja...   \n",
              "\n",
              "                     channel_id       channel_title        published_at  \\\n",
              "27     UCYwNMbogQFzMccPSuy-pPWg           MianTwins 2021-01-21 00:05:47   \n",
              "48     UCPpATKqmMV-CNRNWYaDUwiA        Alexa Rivera 2021-01-16 21:40:04   \n",
              "95     UCVsTboAhpnuL6j-tDePvNwQ      Tess Christine 2021-01-03 21:53:48   \n",
              "103    UCzpCc5n9hqiVC7HhPwcIKEg  Good Mythical MORE 2021-01-19 11:00:01   \n",
              "182    UCWZp4y1jqBuvLtiyxSs_ZBw             Big guy 2021-01-24 22:50:57   \n",
              "...                         ...                 ...                 ...   \n",
              "37300  UCIlr3byh6wmXgcPx_Tm9Ocw             Piwerre 2021-01-16 16:12:19   \n",
              "37329  UCkD-ZOixI0a9FjIExDsHsbg        The Kick Off 2021-01-03 20:13:49   \n",
              "37345  UCO9zJy7HWrIS3ojB4Lr7Yqw           Lil Wayne 2021-01-21 05:00:10   \n",
              "37383  UCo15ZYO_XDRU9LI30OPtxAg       America's Cup 2021-01-15 04:07:55   \n",
              "37418  UCWJ2lWNubArHWmf3FIHbfcQ                 NBA 2021-01-16 05:39:05   \n",
              "\n",
              "       view_count   likes  dislikes  comment_count  \\\n",
              "27         872372   38626       239            621   \n",
              "48        6504784  262477      5779           7907   \n",
              "95         533084   38965       119           1650   \n",
              "103       1057077   22526       531            773   \n",
              "182       1724965  119431       325           1578   \n",
              "...           ...     ...       ...            ...   \n",
              "37300      670357   54462       832           1249   \n",
              "37329      428646   12060       296           1505   \n",
              "37345     2238244   58925      2365           5539   \n",
              "37383      317382    2008        83            192   \n",
              "37418     2841917   20759      1049           2624   \n",
              "\n",
              "                                                    tags  \\\n",
              "27                                                         \n",
              "48                                                         \n",
              "95                                                         \n",
              "103    gmm good mythical morning rhettandlink rhett a...   \n",
              "182    jschlatt big guy jschlatt highlights schlatt j...   \n",
              "...                                                  ...   \n",
              "37300  Piwerre frere de michou crouton among us devin...   \n",
              "37329  Premier league Chelsea chelsea 1-3 Man City Ch...   \n",
              "37345  lil wayne weezy weezy wednesday wayne carter y...   \n",
              "37383  America's Cup Americas Cup AC36 AC75 Presented...   \n",
              "37418  NBA G League Basketball game-0022000187 Lakers...   \n",
              "\n",
              "                                             description  \\\n",
              "27     Hey Guys!!! this has been the most requested v...   \n",
              "48     He had no idea! Thank you guys so much for wat...   \n",
              "95     I am so happy to tell you that I am pregnant!!...   \n",
              "103    Today, we're doing a blind taste test to deter...   \n",
              "182                    #jschlatt #schlatt #bigguy #short   \n",
              "...                                                  ...   \n",
              "37300   Discord Piwerre : https://discord.gg/QBduPgAA...   \n",
              "37329  The Kick Off watched Manchester City destroy C...   \n",
              "37345  Official audio for Lil Wayne \"Ain't Got Time\",...   \n",
              "37383  The opening day of the PRADA Cup in Auckland, ...   \n",
              "37418  PELICANS at LAKERS | FULL GAME HIGHLIGHTS | Ja...   \n",
              "\n",
              "                                                comments published_month  \n",
              "27     I feel like Nate and Aishas personality match ...             jan  \n",
              "48     Thank you guys for watching and don't forget t...             jan  \n",
              "95     Okay I needed a moment to collect my thoughts ...             jan  \n",
              "103    \"there's nothing wrong with it being bent\"\\nI ...             jan  \n",
              "182    Schlatt is single handedly wiping out all the ...             jan  \n",
              "...                                                  ...             ...  \n",
              "37300  Mdr michou quand c'est pas ses tournage il fou...             jan  \n",
              "37329  True Its like a fighter who Geordie But I thou...             jan  \n",
              "37345  RIP Juice Wrld, wrote that on two cups, pour o...             jan  \n",
              "37383  Incredible how these boats evolve in a short t...             jan  \n",
              "37418  Montrezl Harrell is going crazy with the rebou...             jan  \n",
              "\n",
              "[2108 rows x 13 columns]"
            ],
            "text/html": [
              "\n",
              "  <div id=\"df-32392be7-4445-4287-a2f7-bcb189513d84\">\n",
              "    <div class=\"colab-df-container\">\n",
              "      <div>\n",
              "<style scoped>\n",
              "    .dataframe tbody tr th:only-of-type {\n",
              "        vertical-align: middle;\n",
              "    }\n",
              "\n",
              "    .dataframe tbody tr th {\n",
              "        vertical-align: top;\n",
              "    }\n",
              "\n",
              "    .dataframe thead th {\n",
              "        text-align: right;\n",
              "    }\n",
              "</style>\n",
              "<table border=\"1\" class=\"dataframe\">\n",
              "  <thead>\n",
              "    <tr style=\"text-align: right;\">\n",
              "      <th></th>\n",
              "      <th>video_id</th>\n",
              "      <th>title</th>\n",
              "      <th>channel_id</th>\n",
              "      <th>channel_title</th>\n",
              "      <th>published_at</th>\n",
              "      <th>view_count</th>\n",
              "      <th>likes</th>\n",
              "      <th>dislikes</th>\n",
              "      <th>comment_count</th>\n",
              "      <th>tags</th>\n",
              "      <th>description</th>\n",
              "      <th>comments</th>\n",
              "      <th>published_month</th>\n",
              "    </tr>\n",
              "  </thead>\n",
              "  <tbody>\n",
              "    <tr>\n",
              "      <th>27</th>\n",
              "      <td>-2Gwm7QfBnE</td>\n",
              "      <td>Q&amp;A With Naisha</td>\n",
              "      <td>UCYwNMbogQFzMccPSuy-pPWg</td>\n",
              "      <td>MianTwins</td>\n",
              "      <td>2021-01-21 00:05:47</td>\n",
              "      <td>872372</td>\n",
              "      <td>38626</td>\n",
              "      <td>239</td>\n",
              "      <td>621</td>\n",
              "      <td></td>\n",
              "      <td>Hey Guys!!! this has been the most requested v...</td>\n",
              "      <td>I feel like Nate and Aishas personality match ...</td>\n",
              "      <td>jan</td>\n",
              "    </tr>\n",
              "    <tr>\n",
              "      <th>48</th>\n",
              "      <td>-4sfXSHSxzA</td>\n",
              "      <td>SURPRISING BRENT WITH HIS TIKTOK CRUSH!!</td>\n",
              "      <td>UCPpATKqmMV-CNRNWYaDUwiA</td>\n",
              "      <td>Alexa Rivera</td>\n",
              "      <td>2021-01-16 21:40:04</td>\n",
              "      <td>6504784</td>\n",
              "      <td>262477</td>\n",
              "      <td>5779</td>\n",
              "      <td>7907</td>\n",
              "      <td></td>\n",
              "      <td>He had no idea! Thank you guys so much for wat...</td>\n",
              "      <td>Thank you guys for watching and don't forget t...</td>\n",
              "      <td>jan</td>\n",
              "    </tr>\n",
              "    <tr>\n",
              "      <th>95</th>\n",
              "      <td>-AJD1Fc5rpQ</td>\n",
              "      <td>WE ARE HAVING A BABY! | finding out i'm pregna...</td>\n",
              "      <td>UCVsTboAhpnuL6j-tDePvNwQ</td>\n",
              "      <td>Tess Christine</td>\n",
              "      <td>2021-01-03 21:53:48</td>\n",
              "      <td>533084</td>\n",
              "      <td>38965</td>\n",
              "      <td>119</td>\n",
              "      <td>1650</td>\n",
              "      <td></td>\n",
              "      <td>I am so happy to tell you that I am pregnant!!...</td>\n",
              "      <td>Okay I needed a moment to collect my thoughts ...</td>\n",
              "      <td>jan</td>\n",
              "    </tr>\n",
              "    <tr>\n",
              "      <th>103</th>\n",
              "      <td>-AuJiwjsmWk</td>\n",
              "      <td>Do Ugly Foods Taste Worse? Taste Test</td>\n",
              "      <td>UCzpCc5n9hqiVC7HhPwcIKEg</td>\n",
              "      <td>Good Mythical MORE</td>\n",
              "      <td>2021-01-19 11:00:01</td>\n",
              "      <td>1057077</td>\n",
              "      <td>22526</td>\n",
              "      <td>531</td>\n",
              "      <td>773</td>\n",
              "      <td>gmm good mythical morning rhettandlink rhett a...</td>\n",
              "      <td>Today, we're doing a blind taste test to deter...</td>\n",
              "      <td>\"there's nothing wrong with it being bent\"\\nI ...</td>\n",
              "      <td>jan</td>\n",
              "    </tr>\n",
              "    <tr>\n",
              "      <th>182</th>\n",
              "      <td>-JhqO2KWr5U</td>\n",
              "      <td>Schlatt gets fit</td>\n",
              "      <td>UCWZp4y1jqBuvLtiyxSs_ZBw</td>\n",
              "      <td>Big guy</td>\n",
              "      <td>2021-01-24 22:50:57</td>\n",
              "      <td>1724965</td>\n",
              "      <td>119431</td>\n",
              "      <td>325</td>\n",
              "      <td>1578</td>\n",
              "      <td>jschlatt big guy jschlatt highlights schlatt j...</td>\n",
              "      <td>#jschlatt #schlatt #bigguy #short</td>\n",
              "      <td>Schlatt is single handedly wiping out all the ...</td>\n",
              "      <td>jan</td>\n",
              "    </tr>\n",
              "    <tr>\n",
              "      <th>...</th>\n",
              "      <td>...</td>\n",
              "      <td>...</td>\n",
              "      <td>...</td>\n",
              "      <td>...</td>\n",
              "      <td>...</td>\n",
              "      <td>...</td>\n",
              "      <td>...</td>\n",
              "      <td>...</td>\n",
              "      <td>...</td>\n",
              "      <td>...</td>\n",
              "      <td>...</td>\n",
              "      <td>...</td>\n",
              "      <td>...</td>\n",
              "    </tr>\n",
              "    <tr>\n",
              "      <th>37300</th>\n",
              "      <td>zmzFL5bG-jc</td>\n",
              "      <td>DEVINE MON PERSONNAGE AVANT AKINATOR ! (c'est ...</td>\n",
              "      <td>UCIlr3byh6wmXgcPx_Tm9Ocw</td>\n",
              "      <td>Piwerre</td>\n",
              "      <td>2021-01-16 16:12:19</td>\n",
              "      <td>670357</td>\n",
              "      <td>54462</td>\n",
              "      <td>832</td>\n",
              "      <td>1249</td>\n",
              "      <td>Piwerre frere de michou crouton among us devin...</td>\n",
              "      <td>Discord Piwerre : https://discord.gg/QBduPgAA...</td>\n",
              "      <td>Mdr michou quand c'est pas ses tournage il fou...</td>\n",
              "      <td>jan</td>\n",
              "    </tr>\n",
              "    <tr>\n",
              "      <th>37329</th>\n",
              "      <td>zpzjex7qwrA</td>\n",
              "      <td>Lampard Sacked Within Days Rorys Misery | Chel...</td>\n",
              "      <td>UCkD-ZOixI0a9FjIExDsHsbg</td>\n",
              "      <td>The Kick Off</td>\n",
              "      <td>2021-01-03 20:13:49</td>\n",
              "      <td>428646</td>\n",
              "      <td>12060</td>\n",
              "      <td>296</td>\n",
              "      <td>1505</td>\n",
              "      <td>Premier league Chelsea chelsea 1-3 Man City Ch...</td>\n",
              "      <td>The Kick Off watched Manchester City destroy C...</td>\n",
              "      <td>True Its like a fighter who Geordie But I thou...</td>\n",
              "      <td>jan</td>\n",
              "    </tr>\n",
              "    <tr>\n",
              "      <th>37345</th>\n",
              "      <td>zqyv-B6mnBM</td>\n",
              "      <td>Lil Wayne - Ain't Got Time (Audio)</td>\n",
              "      <td>UCO9zJy7HWrIS3ojB4Lr7Yqw</td>\n",
              "      <td>Lil Wayne</td>\n",
              "      <td>2021-01-21 05:00:10</td>\n",
              "      <td>2238244</td>\n",
              "      <td>58925</td>\n",
              "      <td>2365</td>\n",
              "      <td>5539</td>\n",
              "      <td>lil wayne weezy weezy wednesday wayne carter y...</td>\n",
              "      <td>Official audio for Lil Wayne \"Ain't Got Time\",...</td>\n",
              "      <td>RIP Juice Wrld, wrote that on two cups, pour o...</td>\n",
              "      <td>jan</td>\n",
              "    </tr>\n",
              "    <tr>\n",
              "      <th>37383</th>\n",
              "      <td>zwfu1-24T7Q</td>\n",
              "      <td>PRADA Cup Day 1 | Full Race Replay | PRADA Cup...</td>\n",
              "      <td>UCo15ZYO_XDRU9LI30OPtxAg</td>\n",
              "      <td>America's Cup</td>\n",
              "      <td>2021-01-15 04:07:55</td>\n",
              "      <td>317382</td>\n",
              "      <td>2008</td>\n",
              "      <td>83</td>\n",
              "      <td>192</td>\n",
              "      <td>America's Cup Americas Cup AC36 AC75 Presented...</td>\n",
              "      <td>The opening day of the PRADA Cup in Auckland, ...</td>\n",
              "      <td>Incredible how these boats evolve in a short t...</td>\n",
              "      <td>jan</td>\n",
              "    </tr>\n",
              "    <tr>\n",
              "      <th>37418</th>\n",
              "      <td>zziBybeSAtw</td>\n",
              "      <td>PELICANS at LAKERS | FULL GAME HIGHLIGHTS | Ja...</td>\n",
              "      <td>UCWJ2lWNubArHWmf3FIHbfcQ</td>\n",
              "      <td>NBA</td>\n",
              "      <td>2021-01-16 05:39:05</td>\n",
              "      <td>2841917</td>\n",
              "      <td>20759</td>\n",
              "      <td>1049</td>\n",
              "      <td>2624</td>\n",
              "      <td>NBA G League Basketball game-0022000187 Lakers...</td>\n",
              "      <td>PELICANS at LAKERS | FULL GAME HIGHLIGHTS | Ja...</td>\n",
              "      <td>Montrezl Harrell is going crazy with the rebou...</td>\n",
              "      <td>jan</td>\n",
              "    </tr>\n",
              "  </tbody>\n",
              "</table>\n",
              "<p>2108 rows × 13 columns</p>\n",
              "</div>\n",
              "      <button class=\"colab-df-convert\" onclick=\"convertToInteractive('df-32392be7-4445-4287-a2f7-bcb189513d84')\"\n",
              "              title=\"Convert this dataframe to an interactive table.\"\n",
              "              style=\"display:none;\">\n",
              "        \n",
              "  <svg xmlns=\"http://www.w3.org/2000/svg\" height=\"24px\"viewBox=\"0 0 24 24\"\n",
              "       width=\"24px\">\n",
              "    <path d=\"M0 0h24v24H0V0z\" fill=\"none\"/>\n",
              "    <path d=\"M18.56 5.44l.94 2.06.94-2.06 2.06-.94-2.06-.94-.94-2.06-.94 2.06-2.06.94zm-11 1L8.5 8.5l.94-2.06 2.06-.94-2.06-.94L8.5 2.5l-.94 2.06-2.06.94zm10 10l.94 2.06.94-2.06 2.06-.94-2.06-.94-.94-2.06-.94 2.06-2.06.94z\"/><path d=\"M17.41 7.96l-1.37-1.37c-.4-.4-.92-.59-1.43-.59-.52 0-1.04.2-1.43.59L10.3 9.45l-7.72 7.72c-.78.78-.78 2.05 0 2.83L4 21.41c.39.39.9.59 1.41.59.51 0 1.02-.2 1.41-.59l7.78-7.78 2.81-2.81c.8-.78.8-2.07 0-2.86zM5.41 20L4 18.59l7.72-7.72 1.47 1.35L5.41 20z\"/>\n",
              "  </svg>\n",
              "      </button>\n",
              "      \n",
              "  <style>\n",
              "    .colab-df-container {\n",
              "      display:flex;\n",
              "      flex-wrap:wrap;\n",
              "      gap: 12px;\n",
              "    }\n",
              "\n",
              "    .colab-df-convert {\n",
              "      background-color: #E8F0FE;\n",
              "      border: none;\n",
              "      border-radius: 50%;\n",
              "      cursor: pointer;\n",
              "      display: none;\n",
              "      fill: #1967D2;\n",
              "      height: 32px;\n",
              "      padding: 0 0 0 0;\n",
              "      width: 32px;\n",
              "    }\n",
              "\n",
              "    .colab-df-convert:hover {\n",
              "      background-color: #E2EBFA;\n",
              "      box-shadow: 0px 1px 2px rgba(60, 64, 67, 0.3), 0px 1px 3px 1px rgba(60, 64, 67, 0.15);\n",
              "      fill: #174EA6;\n",
              "    }\n",
              "\n",
              "    [theme=dark] .colab-df-convert {\n",
              "      background-color: #3B4455;\n",
              "      fill: #D2E3FC;\n",
              "    }\n",
              "\n",
              "    [theme=dark] .colab-df-convert:hover {\n",
              "      background-color: #434B5C;\n",
              "      box-shadow: 0px 1px 3px 1px rgba(0, 0, 0, 0.15);\n",
              "      filter: drop-shadow(0px 1px 2px rgba(0, 0, 0, 0.3));\n",
              "      fill: #FFFFFF;\n",
              "    }\n",
              "  </style>\n",
              "\n",
              "      <script>\n",
              "        const buttonEl =\n",
              "          document.querySelector('#df-32392be7-4445-4287-a2f7-bcb189513d84 button.colab-df-convert');\n",
              "        buttonEl.style.display =\n",
              "          google.colab.kernel.accessAllowed ? 'block' : 'none';\n",
              "\n",
              "        async function convertToInteractive(key) {\n",
              "          const element = document.querySelector('#df-32392be7-4445-4287-a2f7-bcb189513d84');\n",
              "          const dataTable =\n",
              "            await google.colab.kernel.invokeFunction('convertToInteractive',\n",
              "                                                     [key], {});\n",
              "          if (!dataTable) return;\n",
              "\n",
              "          const docLinkHtml = 'Like what you see? Visit the ' +\n",
              "            '<a target=\"_blank\" href=https://colab.research.google.com/notebooks/data_table.ipynb>data table notebook</a>'\n",
              "            + ' to learn more about interactive tables.';\n",
              "          element.innerHTML = '';\n",
              "          dataTable['output_type'] = 'display_data';\n",
              "          await google.colab.output.renderOutput(dataTable, element);\n",
              "          const docLink = document.createElement('div');\n",
              "          docLink.innerHTML = docLinkHtml;\n",
              "          element.appendChild(docLink);\n",
              "        }\n",
              "      </script>\n",
              "    </div>\n",
              "  </div>\n",
              "  "
            ]
          },
          "metadata": {},
          "execution_count": 73
        }
      ]
    },
    {
      "cell_type": "code",
      "source": [
        "import pandas as pd\n",
        "import matplotlib.pyplot as plt"
      ],
      "metadata": {
        "id": "Q46XLEqR1NuY"
      },
      "execution_count": null,
      "outputs": []
    },
    {
      "cell_type": "code",
      "source": [
        "data=pd.read_json(\"/content/shoe.txt\")"
      ],
      "metadata": {
        "id": "nUjxcP-ZHMT_"
      },
      "execution_count": null,
      "outputs": []
    },
    {
      "cell_type": "code",
      "source": [
        "data.head()"
      ],
      "metadata": {
        "colab": {
          "base_uri": "https://localhost:8080/",
          "height": 206
        },
        "id": "O0pMweGFHiXd",
        "outputId": "83c9d810-27f6-47fc-9fbc-f0bee51c85d8"
      },
      "execution_count": null,
      "outputs": [
        {
          "output_type": "execute_result",
          "data": {
            "text/plain": [
              "     x   y\n",
              "0  5.5  60\n",
              "1  6.0  60\n",
              "2  7.0  60\n",
              "3  6.0  64\n",
              "4  7.0  64"
            ],
            "text/html": [
              "\n",
              "  <div id=\"df-27ee2e34-4c99-4d9b-a3c1-f1405e7dd3f9\">\n",
              "    <div class=\"colab-df-container\">\n",
              "      <div>\n",
              "<style scoped>\n",
              "    .dataframe tbody tr th:only-of-type {\n",
              "        vertical-align: middle;\n",
              "    }\n",
              "\n",
              "    .dataframe tbody tr th {\n",
              "        vertical-align: top;\n",
              "    }\n",
              "\n",
              "    .dataframe thead th {\n",
              "        text-align: right;\n",
              "    }\n",
              "</style>\n",
              "<table border=\"1\" class=\"dataframe\">\n",
              "  <thead>\n",
              "    <tr style=\"text-align: right;\">\n",
              "      <th></th>\n",
              "      <th>x</th>\n",
              "      <th>y</th>\n",
              "    </tr>\n",
              "  </thead>\n",
              "  <tbody>\n",
              "    <tr>\n",
              "      <th>0</th>\n",
              "      <td>5.5</td>\n",
              "      <td>60</td>\n",
              "    </tr>\n",
              "    <tr>\n",
              "      <th>1</th>\n",
              "      <td>6.0</td>\n",
              "      <td>60</td>\n",
              "    </tr>\n",
              "    <tr>\n",
              "      <th>2</th>\n",
              "      <td>7.0</td>\n",
              "      <td>60</td>\n",
              "    </tr>\n",
              "    <tr>\n",
              "      <th>3</th>\n",
              "      <td>6.0</td>\n",
              "      <td>64</td>\n",
              "    </tr>\n",
              "    <tr>\n",
              "      <th>4</th>\n",
              "      <td>7.0</td>\n",
              "      <td>64</td>\n",
              "    </tr>\n",
              "  </tbody>\n",
              "</table>\n",
              "</div>\n",
              "      <button class=\"colab-df-convert\" onclick=\"convertToInteractive('df-27ee2e34-4c99-4d9b-a3c1-f1405e7dd3f9')\"\n",
              "              title=\"Convert this dataframe to an interactive table.\"\n",
              "              style=\"display:none;\">\n",
              "        \n",
              "  <svg xmlns=\"http://www.w3.org/2000/svg\" height=\"24px\"viewBox=\"0 0 24 24\"\n",
              "       width=\"24px\">\n",
              "    <path d=\"M0 0h24v24H0V0z\" fill=\"none\"/>\n",
              "    <path d=\"M18.56 5.44l.94 2.06.94-2.06 2.06-.94-2.06-.94-.94-2.06-.94 2.06-2.06.94zm-11 1L8.5 8.5l.94-2.06 2.06-.94-2.06-.94L8.5 2.5l-.94 2.06-2.06.94zm10 10l.94 2.06.94-2.06 2.06-.94-2.06-.94-.94-2.06-.94 2.06-2.06.94z\"/><path d=\"M17.41 7.96l-1.37-1.37c-.4-.4-.92-.59-1.43-.59-.52 0-1.04.2-1.43.59L10.3 9.45l-7.72 7.72c-.78.78-.78 2.05 0 2.83L4 21.41c.39.39.9.59 1.41.59.51 0 1.02-.2 1.41-.59l7.78-7.78 2.81-2.81c.8-.78.8-2.07 0-2.86zM5.41 20L4 18.59l7.72-7.72 1.47 1.35L5.41 20z\"/>\n",
              "  </svg>\n",
              "      </button>\n",
              "      \n",
              "  <style>\n",
              "    .colab-df-container {\n",
              "      display:flex;\n",
              "      flex-wrap:wrap;\n",
              "      gap: 12px;\n",
              "    }\n",
              "\n",
              "    .colab-df-convert {\n",
              "      background-color: #E8F0FE;\n",
              "      border: none;\n",
              "      border-radius: 50%;\n",
              "      cursor: pointer;\n",
              "      display: none;\n",
              "      fill: #1967D2;\n",
              "      height: 32px;\n",
              "      padding: 0 0 0 0;\n",
              "      width: 32px;\n",
              "    }\n",
              "\n",
              "    .colab-df-convert:hover {\n",
              "      background-color: #E2EBFA;\n",
              "      box-shadow: 0px 1px 2px rgba(60, 64, 67, 0.3), 0px 1px 3px 1px rgba(60, 64, 67, 0.15);\n",
              "      fill: #174EA6;\n",
              "    }\n",
              "\n",
              "    [theme=dark] .colab-df-convert {\n",
              "      background-color: #3B4455;\n",
              "      fill: #D2E3FC;\n",
              "    }\n",
              "\n",
              "    [theme=dark] .colab-df-convert:hover {\n",
              "      background-color: #434B5C;\n",
              "      box-shadow: 0px 1px 3px 1px rgba(0, 0, 0, 0.15);\n",
              "      filter: drop-shadow(0px 1px 2px rgba(0, 0, 0, 0.3));\n",
              "      fill: #FFFFFF;\n",
              "    }\n",
              "  </style>\n",
              "\n",
              "      <script>\n",
              "        const buttonEl =\n",
              "          document.querySelector('#df-27ee2e34-4c99-4d9b-a3c1-f1405e7dd3f9 button.colab-df-convert');\n",
              "        buttonEl.style.display =\n",
              "          google.colab.kernel.accessAllowed ? 'block' : 'none';\n",
              "\n",
              "        async function convertToInteractive(key) {\n",
              "          const element = document.querySelector('#df-27ee2e34-4c99-4d9b-a3c1-f1405e7dd3f9');\n",
              "          const dataTable =\n",
              "            await google.colab.kernel.invokeFunction('convertToInteractive',\n",
              "                                                     [key], {});\n",
              "          if (!dataTable) return;\n",
              "\n",
              "          const docLinkHtml = 'Like what you see? Visit the ' +\n",
              "            '<a target=\"_blank\" href=https://colab.research.google.com/notebooks/data_table.ipynb>data table notebook</a>'\n",
              "            + ' to learn more about interactive tables.';\n",
              "          element.innerHTML = '';\n",
              "          dataTable['output_type'] = 'display_data';\n",
              "          await google.colab.output.renderOutput(dataTable, element);\n",
              "          const docLink = document.createElement('div');\n",
              "          docLink.innerHTML = docLinkHtml;\n",
              "          element.appendChild(docLink);\n",
              "        }\n",
              "      </script>\n",
              "    </div>\n",
              "  </div>\n",
              "  "
            ]
          },
          "metadata": {},
          "execution_count": 10
        }
      ]
    },
    {
      "cell_type": "code",
      "source": [
        "data1=data.rename(columns={\"x\":\"shoessize\",\"y\":\"height\"})"
      ],
      "metadata": {
        "id": "N6XNKknBHlCI"
      },
      "execution_count": null,
      "outputs": []
    },
    {
      "cell_type": "code",
      "source": [
        "data1.head(2)"
      ],
      "metadata": {
        "colab": {
          "base_uri": "https://localhost:8080/",
          "height": 112
        },
        "id": "qWA5rGreHrSz",
        "outputId": "e884db2a-4781-4008-e07d-05c4591e086d"
      },
      "execution_count": null,
      "outputs": [
        {
          "output_type": "execute_result",
          "data": {
            "text/plain": [
              "   shoessize  height\n",
              "0        5.5      60\n",
              "1        6.0      60"
            ],
            "text/html": [
              "\n",
              "  <div id=\"df-5ba50d11-fd89-40b7-bd1a-28607e6f5445\">\n",
              "    <div class=\"colab-df-container\">\n",
              "      <div>\n",
              "<style scoped>\n",
              "    .dataframe tbody tr th:only-of-type {\n",
              "        vertical-align: middle;\n",
              "    }\n",
              "\n",
              "    .dataframe tbody tr th {\n",
              "        vertical-align: top;\n",
              "    }\n",
              "\n",
              "    .dataframe thead th {\n",
              "        text-align: right;\n",
              "    }\n",
              "</style>\n",
              "<table border=\"1\" class=\"dataframe\">\n",
              "  <thead>\n",
              "    <tr style=\"text-align: right;\">\n",
              "      <th></th>\n",
              "      <th>shoessize</th>\n",
              "      <th>height</th>\n",
              "    </tr>\n",
              "  </thead>\n",
              "  <tbody>\n",
              "    <tr>\n",
              "      <th>0</th>\n",
              "      <td>5.5</td>\n",
              "      <td>60</td>\n",
              "    </tr>\n",
              "    <tr>\n",
              "      <th>1</th>\n",
              "      <td>6.0</td>\n",
              "      <td>60</td>\n",
              "    </tr>\n",
              "  </tbody>\n",
              "</table>\n",
              "</div>\n",
              "      <button class=\"colab-df-convert\" onclick=\"convertToInteractive('df-5ba50d11-fd89-40b7-bd1a-28607e6f5445')\"\n",
              "              title=\"Convert this dataframe to an interactive table.\"\n",
              "              style=\"display:none;\">\n",
              "        \n",
              "  <svg xmlns=\"http://www.w3.org/2000/svg\" height=\"24px\"viewBox=\"0 0 24 24\"\n",
              "       width=\"24px\">\n",
              "    <path d=\"M0 0h24v24H0V0z\" fill=\"none\"/>\n",
              "    <path d=\"M18.56 5.44l.94 2.06.94-2.06 2.06-.94-2.06-.94-.94-2.06-.94 2.06-2.06.94zm-11 1L8.5 8.5l.94-2.06 2.06-.94-2.06-.94L8.5 2.5l-.94 2.06-2.06.94zm10 10l.94 2.06.94-2.06 2.06-.94-2.06-.94-.94-2.06-.94 2.06-2.06.94z\"/><path d=\"M17.41 7.96l-1.37-1.37c-.4-.4-.92-.59-1.43-.59-.52 0-1.04.2-1.43.59L10.3 9.45l-7.72 7.72c-.78.78-.78 2.05 0 2.83L4 21.41c.39.39.9.59 1.41.59.51 0 1.02-.2 1.41-.59l7.78-7.78 2.81-2.81c.8-.78.8-2.07 0-2.86zM5.41 20L4 18.59l7.72-7.72 1.47 1.35L5.41 20z\"/>\n",
              "  </svg>\n",
              "      </button>\n",
              "      \n",
              "  <style>\n",
              "    .colab-df-container {\n",
              "      display:flex;\n",
              "      flex-wrap:wrap;\n",
              "      gap: 12px;\n",
              "    }\n",
              "\n",
              "    .colab-df-convert {\n",
              "      background-color: #E8F0FE;\n",
              "      border: none;\n",
              "      border-radius: 50%;\n",
              "      cursor: pointer;\n",
              "      display: none;\n",
              "      fill: #1967D2;\n",
              "      height: 32px;\n",
              "      padding: 0 0 0 0;\n",
              "      width: 32px;\n",
              "    }\n",
              "\n",
              "    .colab-df-convert:hover {\n",
              "      background-color: #E2EBFA;\n",
              "      box-shadow: 0px 1px 2px rgba(60, 64, 67, 0.3), 0px 1px 3px 1px rgba(60, 64, 67, 0.15);\n",
              "      fill: #174EA6;\n",
              "    }\n",
              "\n",
              "    [theme=dark] .colab-df-convert {\n",
              "      background-color: #3B4455;\n",
              "      fill: #D2E3FC;\n",
              "    }\n",
              "\n",
              "    [theme=dark] .colab-df-convert:hover {\n",
              "      background-color: #434B5C;\n",
              "      box-shadow: 0px 1px 3px 1px rgba(0, 0, 0, 0.15);\n",
              "      filter: drop-shadow(0px 1px 2px rgba(0, 0, 0, 0.3));\n",
              "      fill: #FFFFFF;\n",
              "    }\n",
              "  </style>\n",
              "\n",
              "      <script>\n",
              "        const buttonEl =\n",
              "          document.querySelector('#df-5ba50d11-fd89-40b7-bd1a-28607e6f5445 button.colab-df-convert');\n",
              "        buttonEl.style.display =\n",
              "          google.colab.kernel.accessAllowed ? 'block' : 'none';\n",
              "\n",
              "        async function convertToInteractive(key) {\n",
              "          const element = document.querySelector('#df-5ba50d11-fd89-40b7-bd1a-28607e6f5445');\n",
              "          const dataTable =\n",
              "            await google.colab.kernel.invokeFunction('convertToInteractive',\n",
              "                                                     [key], {});\n",
              "          if (!dataTable) return;\n",
              "\n",
              "          const docLinkHtml = 'Like what you see? Visit the ' +\n",
              "            '<a target=\"_blank\" href=https://colab.research.google.com/notebooks/data_table.ipynb>data table notebook</a>'\n",
              "            + ' to learn more about interactive tables.';\n",
              "          element.innerHTML = '';\n",
              "          dataTable['output_type'] = 'display_data';\n",
              "          await google.colab.output.renderOutput(dataTable, element);\n",
              "          const docLink = document.createElement('div');\n",
              "          docLink.innerHTML = docLinkHtml;\n",
              "          element.appendChild(docLink);\n",
              "        }\n",
              "      </script>\n",
              "    </div>\n",
              "  </div>\n",
              "  "
            ]
          },
          "metadata": {},
          "execution_count": 18
        }
      ]
    },
    {
      "cell_type": "code",
      "source": [
        "from sklearn.linear_model import LinearRegression"
      ],
      "metadata": {
        "id": "volfku7lJu-T"
      },
      "execution_count": null,
      "outputs": []
    },
    {
      "cell_type": "code",
      "source": [
        "import numpy as np"
      ],
      "metadata": {
        "id": "HLHC8kEoKBgN"
      },
      "execution_count": null,
      "outputs": []
    },
    {
      "cell_type": "code",
      "source": [
        "#x=np.array(data1[\"shoessize\"]).reshape((-1.1))\n",
        "#"
      ],
      "metadata": {
        "colab": {
          "base_uri": "https://localhost:8080/",
          "height": 169
        },
        "id": "N8oz0BhMKSQu",
        "outputId": "03fdcac9-6b50-4903-c814-f5e12bfd0e8c"
      },
      "execution_count": null,
      "outputs": [
        {
          "output_type": "error",
          "ename": "TypeError",
          "evalue": "ignored",
          "traceback": [
            "\u001b[0;31m---------------------------------------------------------------------------\u001b[0m",
            "\u001b[0;31mTypeError\u001b[0m                                 Traceback (most recent call last)",
            "\u001b[0;32m<ipython-input-25-6800a341ec45>\u001b[0m in \u001b[0;36m<module>\u001b[0;34m\u001b[0m\n\u001b[0;32m----> 1\u001b[0;31m \u001b[0mx\u001b[0m\u001b[0;34m=\u001b[0m\u001b[0mnp\u001b[0m\u001b[0;34m.\u001b[0m\u001b[0marray\u001b[0m\u001b[0;34m(\u001b[0m\u001b[0mdata1\u001b[0m\u001b[0;34m[\u001b[0m\u001b[0;34m\"shoessize\"\u001b[0m\u001b[0;34m]\u001b[0m\u001b[0;34m)\u001b[0m\u001b[0;34m.\u001b[0m\u001b[0mreshape\u001b[0m\u001b[0;34m(\u001b[0m\u001b[0;34m(\u001b[0m\u001b[0;34m-\u001b[0m\u001b[0;36m1.1\u001b[0m\u001b[0;34m)\u001b[0m\u001b[0;34m)\u001b[0m\u001b[0;34m\u001b[0m\u001b[0;34m\u001b[0m\u001b[0m\n\u001b[0m",
            "\u001b[0;31mTypeError\u001b[0m: 'float' object cannot be interpreted as an integer"
          ]
        }
      ]
    },
    {
      "cell_type": "code",
      "source": [
        "y=np.array(data1['height'])"
      ],
      "metadata": {
        "id": "L2emRwnyKj2R"
      },
      "execution_count": null,
      "outputs": []
    },
    {
      "cell_type": "code",
      "source": [
        "y"
      ],
      "metadata": {
        "colab": {
          "base_uri": "https://localhost:8080/"
        },
        "id": "tSLyszC_K49P",
        "outputId": "13daa559-08bb-4b98-fdaf-80a15d4dc015"
      },
      "execution_count": null,
      "outputs": [
        {
          "output_type": "execute_result",
          "data": {
            "text/plain": [
              "array([60, 60, 60, 64, 64, 64, 64, 64, 64, 64, 67, 65, 65, 65, 66, 66, 66,\n",
              "       66, 66, 66, 68, 68, 68, 68, 68, 69, 69, 69, 69, 69, 69, 70, 70, 70,\n",
              "       70, 70, 70, 70, 70, 70, 70, 70, 70, 70, 70, 71, 71, 71, 71, 71, 71,\n",
              "       71, 71, 71, 71, 71, 71, 71, 72, 72, 72, 72, 72, 72, 72, 72, 72, 72,\n",
              "       72, 72, 72, 72, 73, 73, 73, 73, 73, 73, 73, 73, 75, 75, 75, 75, 75,\n",
              "       75, 77, 77, 78, 78, 78, 80, 81])"
            ]
          },
          "metadata": {},
          "execution_count": 27
        }
      ]
    },
    {
      "cell_type": "code",
      "source": [
        "x=np.array(data1['shoessize']).reshape((-1,1))"
      ],
      "metadata": {
        "id": "sOMLazoEK6IS"
      },
      "execution_count": null,
      "outputs": []
    },
    {
      "cell_type": "code",
      "source": [
        "x"
      ],
      "metadata": {
        "id": "3MaV9KgHLCBj"
      },
      "execution_count": null,
      "outputs": []
    },
    {
      "cell_type": "code",
      "source": [
        "plt.scatter(x,y,color='r')\n",
        "plt.xlabel(\"shoesize\")"
      ],
      "metadata": {
        "colab": {
          "base_uri": "https://localhost:8080/",
          "height": 297
        },
        "id": "QAJ96N-ULDLO",
        "outputId": "2c9394bf-ed45-4d78-c2de-41364b1be513"
      },
      "execution_count": null,
      "outputs": [
        {
          "output_type": "execute_result",
          "data": {
            "text/plain": [
              "Text(0.5, 0, 'shoesize')"
            ]
          },
          "metadata": {},
          "execution_count": 35
        },
        {
          "output_type": "display_data",
          "data": {
            "text/plain": [
              "<Figure size 432x288 with 1 Axes>"
            ],
            "image/png": "[encoded data removed]"
          },
          "metadata": {
            "needs_background": "light"
          }
        }
      ]
    },
    {
      "cell_type": "code",
      "source": [
        "model=LinearRegression()\n",
        "model.fit(x,y)"
      ],
      "metadata": {
        "id": "y9HAzLPVLUYi",
        "colab": {
          "base_uri": "https://localhost:8080/"
        },
        "outputId": "28f1146a-0cc7-439c-9871-9d85985db680"
      },
      "execution_count": null,
      "outputs": [
        {
          "output_type": "execute_result",
          "data": {
            "text/plain": [
              "LinearRegression()"
            ]
          },
          "metadata": {},
          "execution_count": 39
        }
      ]
    },
    {
      "cell_type": "code",
      "source": [
        "model=LinearRegression().fit(x,y)"
      ],
      "metadata": {
        "id": "LF_DsD-AWe73"
      },
      "execution_count": null,
      "outputs": []
    },
    {
      "cell_type": "code",
      "source": [
        "sp=model.score(x,y)"
      ],
      "metadata": {
        "id": "bCjw58ZpXZap"
      },
      "execution_count": null,
      "outputs": []
    },
    {
      "cell_type": "code",
      "source": [
        "print('cofficient of determination',sp)"
      ],
      "metadata": {
        "colab": {
          "base_uri": "https://localhost:8080/"
        },
        "id": "bGMLwAdQXbmY",
        "outputId": "a056c671-6cba-4419-9756-7ca314ba671b"
      },
      "execution_count": null,
      "outputs": [
        {
          "output_type": "stream",
          "name": "stdout",
          "text": [
            "cofficient of determination 0.7222824406449926\n"
          ]
        }
      ]
    },
    {
      "cell_type": "code",
      "source": [
        "data1.corr()"
      ],
      "metadata": {
        "colab": {
          "base_uri": "https://localhost:8080/",
          "height": 112
        },
        "id": "efgLNHFBXkKw",
        "outputId": "3298022e-bb05-4c46-a285-d0c6217f96ff"
      },
      "execution_count": null,
      "outputs": [
        {
          "output_type": "execute_result",
          "data": {
            "text/plain": [
              "           shoessize    height\n",
              "shoessize   1.000000  0.849872\n",
              "height      0.849872  1.000000"
            ],
            "text/html": [
              "\n",
              "  <div id=\"df-437d13f6-214f-4510-ad8c-a34d6b3b4a60\">\n",
              "    <div class=\"colab-df-container\">\n",
              "      <div>\n",
              "<style scoped>\n",
              "    .dataframe tbody tr th:only-of-type {\n",
              "        vertical-align: middle;\n",
              "    }\n",
              "\n",
              "    .dataframe tbody tr th {\n",
              "        vertical-align: top;\n",
              "    }\n",
              "\n",
              "    .dataframe thead th {\n",
              "        text-align: right;\n",
              "    }\n",
              "</style>\n",
              "<table border=\"1\" class=\"dataframe\">\n",
              "  <thead>\n",
              "    <tr style=\"text-align: right;\">\n",
              "      <th></th>\n",
              "      <th>shoessize</th>\n",
              "      <th>height</th>\n",
              "    </tr>\n",
              "  </thead>\n",
              "  <tbody>\n",
              "    <tr>\n",
              "      <th>shoessize</th>\n",
              "      <td>1.000000</td>\n",
              "      <td>0.849872</td>\n",
              "    </tr>\n",
              "    <tr>\n",
              "      <th>height</th>\n",
              "      <td>0.849872</td>\n",
              "      <td>1.000000</td>\n",
              "    </tr>\n",
              "  </tbody>\n",
              "</table>\n",
              "</div>\n",
              "      <button class=\"colab-df-convert\" onclick=\"convertToInteractive('df-437d13f6-214f-4510-ad8c-a34d6b3b4a60')\"\n",
              "              title=\"Convert this dataframe to an interactive table.\"\n",
              "              style=\"display:none;\">\n",
              "        \n",
              "  <svg xmlns=\"http://www.w3.org/2000/svg\" height=\"24px\"viewBox=\"0 0 24 24\"\n",
              "       width=\"24px\">\n",
              "    <path d=\"M0 0h24v24H0V0z\" fill=\"none\"/>\n",
              "    <path d=\"M18.56 5.44l.94 2.06.94-2.06 2.06-.94-2.06-.94-.94-2.06-.94 2.06-2.06.94zm-11 1L8.5 8.5l.94-2.06 2.06-.94-2.06-.94L8.5 2.5l-.94 2.06-2.06.94zm10 10l.94 2.06.94-2.06 2.06-.94-2.06-.94-.94-2.06-.94 2.06-2.06.94z\"/><path d=\"M17.41 7.96l-1.37-1.37c-.4-.4-.92-.59-1.43-.59-.52 0-1.04.2-1.43.59L10.3 9.45l-7.72 7.72c-.78.78-.78 2.05 0 2.83L4 21.41c.39.39.9.59 1.41.59.51 0 1.02-.2 1.41-.59l7.78-7.78 2.81-2.81c.8-.78.8-2.07 0-2.86zM5.41 20L4 18.59l7.72-7.72 1.47 1.35L5.41 20z\"/>\n",
              "  </svg>\n",
              "      </button>\n",
              "      \n",
              "  <style>\n",
              "    .colab-df-container {\n",
              "      display:flex;\n",
              "      flex-wrap:wrap;\n",
              "      gap: 12px;\n",
              "    }\n",
              "\n",
              "    .colab-df-convert {\n",
              "      background-color: #E8F0FE;\n",
              "      border: none;\n",
              "      border-radius: 50%;\n",
              "      cursor: pointer;\n",
              "      display: none;\n",
              "      fill: #1967D2;\n",
              "      height: 32px;\n",
              "      padding: 0 0 0 0;\n",
              "      width: 32px;\n",
              "    }\n",
              "\n",
              "    .colab-df-convert:hover {\n",
              "      background-color: #E2EBFA;\n",
              "      box-shadow: 0px 1px 2px rgba(60, 64, 67, 0.3), 0px 1px 3px 1px rgba(60, 64, 67, 0.15);\n",
              "      fill: #174EA6;\n",
              "    }\n",
              "\n",
              "    [theme=dark] .colab-df-convert {\n",
              "      background-color: #3B4455;\n",
              "      fill: #D2E3FC;\n",
              "    }\n",
              "\n",
              "    [theme=dark] .colab-df-convert:hover {\n",
              "      background-color: #434B5C;\n",
              "      box-shadow: 0px 1px 3px 1px rgba(0, 0, 0, 0.15);\n",
              "      filter: drop-shadow(0px 1px 2px rgba(0, 0, 0, 0.3));\n",
              "      fill: #FFFFFF;\n",
              "    }\n",
              "  </style>\n",
              "\n",
              "      <script>\n",
              "        const buttonEl =\n",
              "          document.querySelector('#df-437d13f6-214f-4510-ad8c-a34d6b3b4a60 button.colab-df-convert');\n",
              "        buttonEl.style.display =\n",
              "          google.colab.kernel.accessAllowed ? 'block' : 'none';\n",
              "\n",
              "        async function convertToInteractive(key) {\n",
              "          const element = document.querySelector('#df-437d13f6-214f-4510-ad8c-a34d6b3b4a60');\n",
              "          const dataTable =\n",
              "            await google.colab.kernel.invokeFunction('convertToInteractive',\n",
              "                                                     [key], {});\n",
              "          if (!dataTable) return;\n",
              "\n",
              "          const docLinkHtml = 'Like what you see? Visit the ' +\n",
              "            '<a target=\"_blank\" href=https://colab.research.google.com/notebooks/data_table.ipynb>data table notebook</a>'\n",
              "            + ' to learn more about interactive tables.';\n",
              "          element.innerHTML = '';\n",
              "          dataTable['output_type'] = 'display_data';\n",
              "          await google.colab.output.renderOutput(dataTable, element);\n",
              "          const docLink = document.createElement('div');\n",
              "          docLink.innerHTML = docLinkHtml;\n",
              "          element.appendChild(docLink);\n",
              "        }\n",
              "      </script>\n",
              "    </div>\n",
              "  </div>\n",
              "  "
            ]
          },
          "metadata": {},
          "execution_count": 52
        }
      ]
    },
    {
      "cell_type": "code",
      "source": [
        "print('intercept',model.intercept_)"
      ],
      "metadata": {
        "colab": {
          "base_uri": "https://localhost:8080/"
        },
        "id": "B_N18FK-X3kJ",
        "outputId": "9425b26f-9386-4a19-8850-0b4c87b5ab34"
      },
      "execution_count": null,
      "outputs": [
        {
          "output_type": "stream",
          "name": "stdout",
          "text": [
            "intercept 50.42113212296657\n"
          ]
        }
      ]
    },
    {
      "cell_type": "code",
      "source": [
        "print('slope',model.coef_)"
      ],
      "metadata": {
        "colab": {
          "base_uri": "https://localhost:8080/"
        },
        "id": "gh1EvNfMYTEP",
        "outputId": "9e77d170-b8d4-41fa-f84c-55a92bf2bae6"
      },
      "execution_count": null,
      "outputs": [
        {
          "output_type": "stream",
          "name": "stdout",
          "text": [
            "slope [1.81221485]\n"
          ]
        }
      ]
    },
    {
      "cell_type": "code",
      "source": [
        "rain=data1['shoessize']"
      ],
      "metadata": {
        "id": "DQf7kmO0Ybud"
      },
      "execution_count": null,
      "outputs": []
    },
    {
      "cell_type": "code",
      "source": [
        "rain_test=np.array(rain.sample(n=11)).reshape(-1,1)"
      ],
      "metadata": {
        "id": "iPJvM0E9Y8Ox"
      },
      "execution_count": null,
      "outputs": []
    },
    {
      "cell_type": "code",
      "source": [
        "rain_test"
      ],
      "metadata": {
        "colab": {
          "base_uri": "https://localhost:8080/"
        },
        "id": "oHX0EklEZMvv",
        "outputId": "45cef25d-7e60-4522-dd91-87d8bd1939a3"
      },
      "execution_count": null,
      "outputs": [
        {
          "output_type": "execute_result",
          "data": {
            "text/plain": [
              "array([[11.5],\n",
              "       [12. ],\n",
              "       [ 9.5],\n",
              "       [10.5],\n",
              "       [11. ],\n",
              "       [ 7.5],\n",
              "       [13. ],\n",
              "       [ 9.5],\n",
              "       [11. ],\n",
              "       [13. ],\n",
              "       [12.5]])"
            ]
          },
          "metadata": {},
          "execution_count": 65
        }
      ]
    },
    {
      "cell_type": "code",
      "source": [
        "lm=LinearRegression()\n",
        "lm.fit(x,y)"
      ],
      "metadata": {
        "colab": {
          "base_uri": "https://localhost:8080/"
        },
        "id": "CSIj0l-mZjyN",
        "outputId": "72644e81-685f-4983-dc65-1aa7b0edef0d"
      },
      "execution_count": null,
      "outputs": [
        {
          "output_type": "execute_result",
          "data": {
            "text/plain": [
              "LinearRegression()"
            ]
          },
          "metadata": {},
          "execution_count": 61
        }
      ]
    },
    {
      "cell_type": "code",
      "source": [
        "predection=lm.predict(rain_test)"
      ],
      "metadata": {
        "id": "ZMcqeJ-tZOmj"
      },
      "execution_count": null,
      "outputs": []
    },
    {
      "cell_type": "code",
      "source": [
        "predection\n"
      ],
      "metadata": {
        "colab": {
          "base_uri": "https://localhost:8080/"
        },
        "id": "DcYuajOqZuAx",
        "outputId": "5046c9d4-afa1-49ad-cf4e-842cc6412809"
      },
      "execution_count": null,
      "outputs": [
        {
          "output_type": "execute_result",
          "data": {
            "text/plain": [
              "array([60.38831377, 68.54328058, 72.16771027, 70.35549542, 72.16771027,\n",
              "       72.16771027, 72.16771027, 67.63717315, 66.73106573, 72.16771027])"
            ]
          },
          "metadata": {},
          "execution_count": 67
        }
      ]
    },
    {
      "cell_type": "code",
      "source": [
        "#y=mx+b\n",
        "height=predection\n",
        "intercept=1.81221485\n",
        "slope=50.42113212296657\n",
        "shoesize=(height-slope)/intercept\n",
        "shoesize=np.round(shoesize)\n",
        "print('The shoesize is:',shoesize)"
      ],
      "metadata": {
        "colab": {
          "base_uri": "https://localhost:8080/"
        },
        "id": "XbZzV3RKaykC",
        "outputId": "7ce88d3a-46d6-4e03-e90d-31c5ffc9dfae"
      },
      "execution_count": null,
      "outputs": [
        {
          "output_type": "stream",
          "name": "stdout",
          "text": [
            "The shoesize is: [ 5. 10. 12. 11. 12. 12. 12.  9.  9. 12.]\n"
          ]
        }
      ]
    },
    {
      "cell_type": "code",
      "source": [
        "x=np.array([1,2,3,4,5]).reshape(-1,1)\n",
        "y=np.array([2,4,6,8,10])"
      ],
      "metadata": {
        "id": "ktJ0nKvYbXRl"
      },
      "execution_count": null,
      "outputs": []
    },
    {
      "cell_type": "code",
      "source": [
        "x"
      ],
      "metadata": {
        "colab": {
          "base_uri": "https://localhost:8080/"
        },
        "id": "XoxIfId-dmZn",
        "outputId": "a5594ad8-3a3f-4d0a-9a7f-a3de542185df"
      },
      "execution_count": null,
      "outputs": [
        {
          "output_type": "execute_result",
          "data": {
            "text/plain": [
              "array([[1],\n",
              "       [2],\n",
              "       [3],\n",
              "       [4],\n",
              "       [5]])"
            ]
          },
          "metadata": {},
          "execution_count": 106
        }
      ]
    },
    {
      "cell_type": "code",
      "source": [
        "y\n"
      ],
      "metadata": {
        "colab": {
          "base_uri": "https://localhost:8080/"
        },
        "id": "o0odvhE1dnVV",
        "outputId": "b16301b7-d5c3-4016-da3c-02b27a697920"
      },
      "execution_count": null,
      "outputs": [
        {
          "output_type": "execute_result",
          "data": {
            "text/plain": [
              "array([ 2,  4,  6,  8, 10])"
            ]
          },
          "metadata": {},
          "execution_count": 113
        }
      ]
    },
    {
      "cell_type": "code",
      "source": [
        "lm1=LinearRegression()\n",
        "lm1=lm1.fit(x,y)"
      ],
      "metadata": {
        "id": "vQFEwf6Zdxgm"
      },
      "execution_count": null,
      "outputs": []
    },
    {
      "cell_type": "code",
      "source": [
        "print('intercept',lm1.intercept_)"
      ],
      "metadata": {
        "colab": {
          "base_uri": "https://localhost:8080/"
        },
        "id": "cJnW9s0qeLM_",
        "outputId": "b0069973-eae4-425a-bfbf-f0f320ae6304"
      },
      "execution_count": null,
      "outputs": [
        {
          "output_type": "stream",
          "name": "stdout",
          "text": [
            "intercept 0.0\n"
          ]
        }
      ]
    },
    {
      "cell_type": "code",
      "source": [
        "print('slope',lm1.coef_)"
      ],
      "metadata": {
        "colab": {
          "base_uri": "https://localhost:8080/"
        },
        "id": "5QXNhaOOe-sG",
        "outputId": "b6ede37c-198b-447f-c179-deeb97eb9f70"
      },
      "execution_count": null,
      "outputs": [
        {
          "output_type": "stream",
          "name": "stdout",
          "text": [
            "slope [2.]\n"
          ]
        }
      ]
    },
    {
      "cell_type": "code",
      "source": [
        "rain_test=\"x\"\n",
        "rain_test=np.array(rain.sample(n=6)).reshape(-1,1)\n",
        "rain_test"
      ],
      "metadata": {
        "colab": {
          "base_uri": "https://localhost:8080/"
        },
        "id": "2bLqB787gOei",
        "outputId": "4a2958dc-df4b-4142-f2f4-d16ebca547f5"
      },
      "execution_count": null,
      "outputs": [
        {
          "output_type": "execute_result",
          "data": {
            "text/plain": [
              "array([[ 7. ],\n",
              "       [12. ],\n",
              "       [11. ],\n",
              "       [12. ],\n",
              "       [10.5],\n",
              "       [11. ]])"
            ]
          },
          "metadata": {},
          "execution_count": 124
        }
      ]
    },
    {
      "cell_type": "code",
      "source": [
        "predection=lm1.predict(x)"
      ],
      "metadata": {
        "id": "Bk1E7pYTf6V_"
      },
      "execution_count": null,
      "outputs": []
    },
    {
      "cell_type": "code",
      "source": [
        "predection"
      ],
      "metadata": {
        "colab": {
          "base_uri": "https://localhost:8080/"
        },
        "id": "oWaQYTXQgGEJ",
        "outputId": "9cdc8206-7c86-4276-93ba-5f607e24e446"
      },
      "execution_count": null,
      "outputs": [
        {
          "output_type": "execute_result",
          "data": {
            "text/plain": [
              "array([ 2.,  4.,  6.,  8., 10.])"
            ]
          },
          "metadata": {},
          "execution_count": 127
        }
      ]
    },
    {
      "cell_type": "code",
      "source": [
        "height=predection\n",
        "intercept=0\n",
        "slope=2\n",
        "height=slope+y\n",
        "shoesize=np.round(height)\n",
        "print('The order is:',shoesize)"
      ],
      "metadata": {
        "colab": {
          "base_uri": "https://localhost:8080/"
        },
        "id": "8sGnbDS1goUP",
        "outputId": "56dc7831-d114-4275-e60d-7f38e96fd938"
      },
      "execution_count": null,
      "outputs": [
        {
          "output_type": "stream",
          "name": "stdout",
          "text": [
            "The order is: [ 4  6  8 10 12]\n"
          ]
        }
      ]
    },
    {
      "cell_type": "code",
      "source": [
        "x=np.array([1,2,3,4,5]).reshape(-1,1)\n",
        "y=np.array([34,32,34,36,36]).reshape(-1,1)\n"
      ],
      "metadata": {
        "id": "jGtw6wAchBRw"
      },
      "execution_count": null,
      "outputs": []
    },
    {
      "cell_type": "code",
      "source": [
        "lm2=LinearRegression()\n",
        "lm2=lm2.fit(x,y)"
      ],
      "metadata": {
        "id": "OCmpBwSSh8jJ"
      },
      "execution_count": null,
      "outputs": []
    },
    {
      "cell_type": "code",
      "source": [
        "b=print('intercept',lm2.intercept_)\n",
        "m=print('slope',lm2.coef_)"
      ],
      "metadata": {
        "colab": {
          "base_uri": "https://localhost:8080/"
        },
        "id": "oJXftdGFiEKu",
        "outputId": "59a31e49-3b39-4845-b794-42f824a00a7f"
      },
      "execution_count": null,
      "outputs": [
        {
          "output_type": "stream",
          "name": "stdout",
          "text": [
            "intercept [32.]\n",
            "slope [[0.8]]\n"
          ]
        }
      ]
    },
    {
      "cell_type": "code",
      "source": [
        "rain_test=\"x\"\n",
        "rain_test=np.array(rain.sample(n=5)).reshape(-1,1)\n",
        "rain_test"
      ],
      "metadata": {
        "colab": {
          "base_uri": "https://localhost:8080/"
        },
        "id": "2cb0bl8FiTPh",
        "outputId": "05a616f8-cb86-4dcd-b319-9e6b5ccaa56f"
      },
      "execution_count": null,
      "outputs": [
        {
          "output_type": "execute_result",
          "data": {
            "text/plain": [
              "array([[10. ],\n",
              "       [15. ],\n",
              "       [10.5],\n",
              "       [10.5],\n",
              "       [ 9.5]])"
            ]
          },
          "metadata": {},
          "execution_count": 191
        }
      ]
    },
    {
      "cell_type": "code",
      "source": [
        "predection=lm2.predict(x)"
      ],
      "metadata": {
        "id": "C81RqM8Biriq"
      },
      "execution_count": null,
      "outputs": []
    },
    {
      "cell_type": "code",
      "source": [
        "predection"
      ],
      "metadata": {
        "colab": {
          "base_uri": "https://localhost:8080/"
        },
        "id": "_OB1H4_ijACQ",
        "outputId": "59fa513f-6afe-4d61-f2cb-74d12cc14299"
      },
      "execution_count": null,
      "outputs": [
        {
          "output_type": "execute_result",
          "data": {
            "text/plain": [
              "array([[32.8],\n",
              "       [33.6],\n",
              "       [34.4],\n",
              "       [35.2],\n",
              "       [36. ]])"
            ]
          },
          "metadata": {},
          "execution_count": 193
        }
      ]
    },
    {
      "cell_type": "code",
      "source": [
        "x1=predection\n",
        "#y=mx+b\n",
        "y=0.8*x1\n",
        "#y=y+b\n",
        "y\n",
        "y\n"
      ],
      "metadata": {
        "colab": {
          "base_uri": "https://localhost:8080/"
        },
        "id": "nfaLtmc0jBxc",
        "outputId": "a2d226ad-2d9c-4d4b-839f-69cf9707315b"
      },
      "execution_count": null,
      "outputs": [
        {
          "output_type": "execute_result",
          "data": {
            "text/plain": [
              "array([[26.24],\n",
              "       [26.88],\n",
              "       [27.52],\n",
              "       [28.16],\n",
              "       [28.8 ]])"
            ]
          },
          "metadata": {},
          "execution_count": 215
        }
      ]
    },
    {
      "cell_type": "code",
      "source": [],
      "metadata": {
        "id": "kyNw4wdhjsQz"
      },
      "execution_count": null,
      "outputs": []
    }
  ]
}